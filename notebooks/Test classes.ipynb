{
 "cells": [
  {
   "cell_type": "code",
   "execution_count": 1,
   "id": "e0569477",
   "metadata": {},
   "outputs": [],
   "source": [
    "import sys\n",
    "sys.path.append('../')\n",
    "\n",
    "import time\n",
    "\n",
    "from  models import utils, Simple_CNN\n",
    "\n",
    "import matplotlib.pyplot as plt\n",
    "\n",
    "import torch\n",
    "from torchvision import transforms\n",
    "import torchaudio\n",
    "\n",
    "import torch.nn as nn\n",
    "import torch.optim as optim\n",
    "from torch.utils.data import random_split\n",
    "\n",
    "from torch.utils.data import DataLoader\n",
    "\n",
    "from sklearn.preprocessing import OneHotEncoder\n",
    "\n",
    "\n",
    "import numpy as np\n",
    "\n",
    "import yaml\n",
    "\n",
    "import pandas as pd"
   ]
  },
  {
   "cell_type": "code",
   "execution_count": 2,
   "id": "affcc34a",
   "metadata": {},
   "outputs": [
    {
     "data": {
      "text/plain": [
       "16168"
      ]
     },
     "execution_count": 2,
     "metadata": {},
     "output_type": "execute_result"
    }
   ],
   "source": [
    "random_seed = 42\n",
    "net_name = \"FlattenCNN-1-4\"\n",
    "\n",
    "\n",
    "with open(\"./yamls/FlattenCNN.yaml\", \"r\") as f:\n",
    "    net_archi = yaml.load(f, Loader=yaml.FullLoader)\n",
    "\n",
    "batch_size = 16\n",
    "lr = net_archi[net_name][\"lr\"]\n",
    "epochs = net_archi[net_name][\"epochs\"]\n",
    "\n",
    "\n",
    "# Dataset transformations\n",
    "transform_img = transforms.Compose(\n",
    "    [transforms.ToTensor(),\n",
    "     transforms.Normalize((0.5, 0.5, 0.5),(0.5, 0.5, 0.5)),\n",
    "     torchaudio.transforms.FrequencyMasking(freq_mask_param=40),\n",
    "     torchaudio.transforms.TimeMasking(time_mask_param=40),\n",
    "    ]\n",
    ")\n",
    "\n",
    "# Create dataset\n",
    "dataset = utils.SpectrogramDataset(\"../datasets/full_dataset_df.csv\",\n",
    "                                   \"../spectrograms/full_dataset\",\n",
    "                                   \"gbifID\", \"family\",\n",
    "                                   transform=transform_img,\n",
    "                                   one_hot_encode_labels=True,\n",
    "                                   preload=False)\n",
    "\n",
    "test_percentage = .2\n",
    "test_len = int((len(dataset) * test_percentage))\n",
    "train_len = len(dataset) - test_len\n",
    "\n",
    "train, test = random_split(dataset, [train_len, test_len], torch.Generator().manual_seed(random_seed))\n",
    "\n",
    "train_loader = DataLoader(train, batch_size=batch_size)\n",
    "test_loader = DataLoader(test, batch_size=batch_size)\n",
    "\n",
    "len(dataset)"
   ]
  },
  {
   "cell_type": "code",
   "execution_count": 3,
   "id": "ef971aee",
   "metadata": {},
   "outputs": [],
   "source": [
    "if torch.cuda.device_count():\n",
    "  model = torch.load(\"./networks/FlattenCNN-1-4.pth\", map_location=torch.device('cuda:0'))\n",
    "else:\n",
    "  model = torch.load(\"./networks/FlattenCNN-1-4.pth\", map_location=torch.device('cpu'))"
   ]
  },
  {
   "cell_type": "code",
   "execution_count": 4,
   "id": "27984f21",
   "metadata": {},
   "outputs": [
    {
     "data": {
      "text/plain": [
       "SimpleCNN(\n",
       "  (conv): ModuleList(\n",
       "    (0): Conv2d(3, 16, kernel_size=(2, 2), stride=(1, 1), padding=same)\n",
       "    (1): Conv2d(16, 32, kernel_size=(2, 2), stride=(1, 1), padding=same)\n",
       "    (2): Conv2d(32, 64, kernel_size=(2, 2), stride=(1, 1), padding=same)\n",
       "    (3): Conv2d(64, 128, kernel_size=(2, 2), stride=(1, 1), padding=same)\n",
       "    (4): Conv2d(128, 256, kernel_size=(2, 2), stride=(1, 1), padding=same)\n",
       "    (5): Conv2d(256, 512, kernel_size=(2, 2), stride=(1, 1), padding=same)\n",
       "  )\n",
       "  (bnorm): ModuleList(\n",
       "    (0): BatchNorm2d(16, eps=1e-05, momentum=0.1, affine=True, track_running_stats=True)\n",
       "    (1): BatchNorm2d(32, eps=1e-05, momentum=0.1, affine=True, track_running_stats=True)\n",
       "    (2): BatchNorm2d(64, eps=1e-05, momentum=0.1, affine=True, track_running_stats=True)\n",
       "    (3): BatchNorm2d(128, eps=1e-05, momentum=0.1, affine=True, track_running_stats=True)\n",
       "    (4): BatchNorm2d(256, eps=1e-05, momentum=0.1, affine=True, track_running_stats=True)\n",
       "    (5): BatchNorm2d(512, eps=1e-05, momentum=0.1, affine=True, track_running_stats=True)\n",
       "  )\n",
       "  (cdrop): ModuleList(\n",
       "    (0): Dropout(p=0.2, inplace=False)\n",
       "    (1): Dropout(p=0.2, inplace=False)\n",
       "    (2): Dropout(p=0.2, inplace=False)\n",
       "    (3): Dropout(p=0.2, inplace=False)\n",
       "    (4): Dropout(p=0.2, inplace=False)\n",
       "    (5): Dropout(p=0.2, inplace=False)\n",
       "  )\n",
       "  (pool): ModuleList(\n",
       "    (0): MaxPool2d(kernel_size=[2, 2], stride=[2, 2], padding=0, dilation=1, ceil_mode=False)\n",
       "    (1): MaxPool2d(kernel_size=[2, 2], stride=[2, 2], padding=0, dilation=1, ceil_mode=False)\n",
       "    (2): MaxPool2d(kernel_size=[2, 2], stride=[2, 2], padding=0, dilation=1, ceil_mode=False)\n",
       "    (3): MaxPool2d(kernel_size=[2, 2], stride=[2, 2], padding=0, dilation=1, ceil_mode=False)\n",
       "    (4): MaxPool2d(kernel_size=[2, 2], stride=[2, 2], padding=0, dilation=1, ceil_mode=False)\n",
       "    (5): MaxPool2d(kernel_size=[2, 2], stride=[2, 2], padding=0, dilation=1, ceil_mode=False)\n",
       "  )\n",
       "  (dense): ModuleList(\n",
       "    (0): Linear(in_features=32768, out_features=1024, bias=True)\n",
       "    (1): Linear(in_features=1024, out_features=232, bias=True)\n",
       "  )\n",
       "  (ldrop): ModuleList(\n",
       "    (0): Dropout(p=0.4, inplace=False)\n",
       "  )\n",
       "  (relu): ReLU()\n",
       "  (last_activation): Softmax(dim=1)\n",
       "  (flatten): Flatten(start_dim=1, end_dim=-1)\n",
       ")"
      ]
     },
     "execution_count": 4,
     "metadata": {},
     "output_type": "execute_result"
    }
   ],
   "source": [
    "model.eval()"
   ]
  },
  {
   "cell_type": "code",
   "execution_count": 5,
   "id": "6f23f39f",
   "metadata": {},
   "outputs": [
    {
     "data": {
      "text/html": [
       "<div>\n",
       "<style scoped>\n",
       "    .dataframe tbody tr th:only-of-type {\n",
       "        vertical-align: middle;\n",
       "    }\n",
       "\n",
       "    .dataframe tbody tr th {\n",
       "        vertical-align: top;\n",
       "    }\n",
       "\n",
       "    .dataframe thead th {\n",
       "        text-align: right;\n",
       "    }\n",
       "</style>\n",
       "<table border=\"1\" class=\"dataframe\">\n",
       "  <thead>\n",
       "    <tr style=\"text-align: right;\">\n",
       "      <th></th>\n",
       "      <th>gbifID</th>\n",
       "      <th>identifier</th>\n",
       "      <th>species</th>\n",
       "      <th>genus</th>\n",
       "      <th>family</th>\n",
       "      <th>class</th>\n",
       "      <th>phylum</th>\n",
       "      <th>file_name</th>\n",
       "    </tr>\n",
       "  </thead>\n",
       "  <tbody>\n",
       "    <tr>\n",
       "      <th>0</th>\n",
       "      <td>1572324720</td>\n",
       "      <td>http://www.tierstimmenarchiv.de/recordings/Cre...</td>\n",
       "      <td>Crex crex</td>\n",
       "      <td>Crex</td>\n",
       "      <td>Rallidae</td>\n",
       "      <td>Aves</td>\n",
       "      <td>Chordata</td>\n",
       "      <td>Chordata/Aves/Rallidae/Crex/Crex_crex/15723247...</td>\n",
       "    </tr>\n",
       "    <tr>\n",
       "      <th>1</th>\n",
       "      <td>1572324719</td>\n",
       "      <td>http://www.tierstimmenarchiv.de/recordings/Cre...</td>\n",
       "      <td>Crex crex</td>\n",
       "      <td>Crex</td>\n",
       "      <td>Rallidae</td>\n",
       "      <td>Aves</td>\n",
       "      <td>Chordata</td>\n",
       "      <td>Chordata/Aves/Rallidae/Crex/Crex_crex/15723247...</td>\n",
       "    </tr>\n",
       "    <tr>\n",
       "      <th>2</th>\n",
       "      <td>1572324718</td>\n",
       "      <td>http://www.tierstimmenarchiv.de/recordings/Cre...</td>\n",
       "      <td>Crex crex</td>\n",
       "      <td>Crex</td>\n",
       "      <td>Rallidae</td>\n",
       "      <td>Aves</td>\n",
       "      <td>Chordata</td>\n",
       "      <td>Chordata/Aves/Rallidae/Crex/Crex_crex/15723247...</td>\n",
       "    </tr>\n",
       "    <tr>\n",
       "      <th>3</th>\n",
       "      <td>1572324717</td>\n",
       "      <td>http://www.tierstimmenarchiv.de/recordings/Cre...</td>\n",
       "      <td>Crex crex</td>\n",
       "      <td>Crex</td>\n",
       "      <td>Rallidae</td>\n",
       "      <td>Aves</td>\n",
       "      <td>Chordata</td>\n",
       "      <td>Chordata/Aves/Rallidae/Crex/Crex_crex/15723247...</td>\n",
       "    </tr>\n",
       "    <tr>\n",
       "      <th>4</th>\n",
       "      <td>1572324716</td>\n",
       "      <td>http://www.tierstimmenarchiv.de/recordings/Cre...</td>\n",
       "      <td>Crex crex</td>\n",
       "      <td>Crex</td>\n",
       "      <td>Rallidae</td>\n",
       "      <td>Aves</td>\n",
       "      <td>Chordata</td>\n",
       "      <td>Chordata/Aves/Rallidae/Crex/Crex_crex/15723247...</td>\n",
       "    </tr>\n",
       "  </tbody>\n",
       "</table>\n",
       "</div>"
      ],
      "text/plain": [
       "       gbifID                                         identifier    species  \\\n",
       "0  1572324720  http://www.tierstimmenarchiv.de/recordings/Cre...  Crex crex   \n",
       "1  1572324719  http://www.tierstimmenarchiv.de/recordings/Cre...  Crex crex   \n",
       "2  1572324718  http://www.tierstimmenarchiv.de/recordings/Cre...  Crex crex   \n",
       "3  1572324717  http://www.tierstimmenarchiv.de/recordings/Cre...  Crex crex   \n",
       "4  1572324716  http://www.tierstimmenarchiv.de/recordings/Cre...  Crex crex   \n",
       "\n",
       "  genus    family class    phylum  \\\n",
       "0  Crex  Rallidae  Aves  Chordata   \n",
       "1  Crex  Rallidae  Aves  Chordata   \n",
       "2  Crex  Rallidae  Aves  Chordata   \n",
       "3  Crex  Rallidae  Aves  Chordata   \n",
       "4  Crex  Rallidae  Aves  Chordata   \n",
       "\n",
       "                                           file_name  \n",
       "0  Chordata/Aves/Rallidae/Crex/Crex_crex/15723247...  \n",
       "1  Chordata/Aves/Rallidae/Crex/Crex_crex/15723247...  \n",
       "2  Chordata/Aves/Rallidae/Crex/Crex_crex/15723247...  \n",
       "3  Chordata/Aves/Rallidae/Crex/Crex_crex/15723247...  \n",
       "4  Chordata/Aves/Rallidae/Crex/Crex_crex/15723247...  "
      ]
     },
     "execution_count": 5,
     "metadata": {},
     "output_type": "execute_result"
    }
   ],
   "source": [
    "df = dataset.csv\n",
    "df.head()"
   ]
  },
  {
   "cell_type": "code",
   "execution_count": 6,
   "id": "bd1a1618",
   "metadata": {},
   "outputs": [
    {
     "data": {
      "text/plain": [
       "(19, 8)"
      ]
     },
     "execution_count": 6,
     "metadata": {},
     "output_type": "execute_result"
    }
   ],
   "source": [
    "df[df[\"class\"]==\"Reptilia\"].shape"
   ]
  },
  {
   "cell_type": "code",
   "execution_count": 7,
   "id": "c8073b14",
   "metadata": {},
   "outputs": [],
   "source": [
    "label_dict = {}"
   ]
  },
  {
   "cell_type": "code",
   "execution_count": 8,
   "id": "dbefa956",
   "metadata": {},
   "outputs": [],
   "source": [
    "arach_index = df[df[\"class\"]==\"Arachnida\"].index\n",
    "arach = []\n",
    "\n",
    "for index in arach_index:\n",
    "  arach.append(np.argmax(dataset[index][\"label\"]))\n",
    "\n",
    "label_dict[\"Arachnida\"] = list(set(arach))"
   ]
  },
  {
   "cell_type": "code",
   "execution_count": 9,
   "id": "c614da08",
   "metadata": {},
   "outputs": [],
   "source": [
    "insect_index = df[df[\"class\"]==\"Insecta\"].index\n",
    "insect = []\n",
    "\n",
    "for index in insect_index:\n",
    "  insect.append(np.argmax(dataset[index][\"label\"]))\n",
    "\n",
    "label_dict[\"Insecta\"] = list(set(insect))"
   ]
  },
  {
   "cell_type": "code",
   "execution_count": 10,
   "id": "bd7b7cb5",
   "metadata": {},
   "outputs": [],
   "source": [
    "acti_index = df[df[\"class\"]==\"Actinopterygii\"].index\n",
    "acti = []\n",
    "\n",
    "for index in acti_index:\n",
    "  acti.append(np.argmax(dataset[index][\"label\"]))\n",
    "\n",
    "label_dict[\"Actinopterygii\"] = list(set(acti))"
   ]
  },
  {
   "cell_type": "code",
   "execution_count": 11,
   "id": "96368f6f",
   "metadata": {},
   "outputs": [],
   "source": [
    "amphi_index = df[df[\"class\"]==\"Amphibia\"].index\n",
    "amphi = []\n",
    "\n",
    "for index in amphi_index:\n",
    "  amphi.append(np.argmax(dataset[index][\"label\"]))\n",
    "\n",
    "label_dict[\"Amphibia\"] = list(set(amphi))"
   ]
  },
  {
   "cell_type": "code",
   "execution_count": 12,
   "id": "625e7951",
   "metadata": {},
   "outputs": [],
   "source": [
    "aves_index = df[df[\"class\"]==\"Aves\"].index\n",
    "aves = []\n",
    "\n",
    "for index in aves_index:\n",
    "  aves.append(np.argmax(dataset[index][\"label\"]))\n",
    "\n",
    "label_dict[\"Aves\"] = list(set(aves))"
   ]
  },
  {
   "cell_type": "code",
   "execution_count": 13,
   "id": "613ad7d3",
   "metadata": {},
   "outputs": [],
   "source": [
    "mamma_index = df[df[\"class\"]==\"Mammalia\"].index\n",
    "mamma = []\n",
    "\n",
    "for index in mamma_index:\n",
    "  mamma.append(np.argmax(dataset[index][\"label\"]))\n",
    "\n",
    "label_dict[\"Mammalia\"] = list(set(mamma))"
   ]
  },
  {
   "cell_type": "code",
   "execution_count": 14,
   "id": "3b07b211",
   "metadata": {},
   "outputs": [],
   "source": [
    "repti_index = df[df[\"class\"]==\"Reptilia\"].index\n",
    "repti = []\n",
    "\n",
    "for index in repti_index:\n",
    "  repti.append(np.argmax(dataset[index][\"label\"]))\n",
    "\n",
    "label_dict[\"Reptilia\"] = list(set(repti))"
   ]
  },
  {
   "cell_type": "code",
   "execution_count": 15,
   "id": "f1ad1f66",
   "metadata": {},
   "outputs": [
    {
     "data": {
      "text/plain": [
       "dict_keys(['Arachnida', 'Insecta', 'Actinopterygii', 'Amphibia', 'Aves', 'Mammalia', 'Reptilia'])"
      ]
     },
     "execution_count": 15,
     "metadata": {},
     "output_type": "execute_result"
    }
   ],
   "source": [
    "label_dict.keys()"
   ]
  },
  {
   "cell_type": "code",
   "execution_count": 16,
   "id": "e346d8ee",
   "metadata": {},
   "outputs": [],
   "source": [
    "pos_dict = {\n",
    "  \"Arachnida\": 0,\n",
    "  \"Insecta\": 1,\n",
    "  \"Actinopterygii\": 2,\n",
    "  \"Amphibia\": 3,\n",
    "  \"Aves\": 4,\n",
    "  \"Mammalia\": 5,\n",
    "  \"Reptilia\": 6\n",
    "}"
   ]
  },
  {
   "cell_type": "code",
   "execution_count": 17,
   "id": "4519ea47",
   "metadata": {},
   "outputs": [],
   "source": [
    "confusion_matrix = {\n",
    "  \"Arachnida\": [0, 0, 0, 0, 0, 0, 0],\n",
    "  \"Insecta\": [0, 0, 0, 0, 0, 0, 0],\n",
    "  \"Actinopterygii\": [0, 0, 0, 0, 0, 0, 0],\n",
    "  \"Amphibia\": [0, 0, 0, 0, 0, 0, 0],\n",
    "  \"Aves\": [0, 0, 0, 0, 0, 0, 0],\n",
    "  \"Mammalia\": [0, 0, 0, 0, 0, 0, 0],\n",
    "  \"Reptilia\": [0, 0, 0, 0, 0, 0, 0]\n",
    "}"
   ]
  },
  {
   "cell_type": "code",
   "execution_count": 18,
   "id": "192f1d8b",
   "metadata": {},
   "outputs": [],
   "source": [
    "torch.cuda.empty_cache()\n",
    "for x in test_loader:\n",
    "  \n",
    "  img = utils.get_cuda(x[\"image\"])\n",
    "  \n",
    "  out = model(img)\n",
    "  \n",
    "  out = utils.get_numpy(out)\n",
    "  \n",
    "  for label, predicted in zip(x[\"label\"], out):\n",
    "    value = np.argmax(label)\n",
    "    pred_value = np.argmax(predicted)\n",
    "    for key, array in label_dict.items():\n",
    "      if value in array:\n",
    "        true_key = key\n",
    "      if pred_value in array:\n",
    "        predicted_class = pos_dict[key]\n",
    "    confusion_matrix[true_key][predicted_class] += 1"
   ]
  },
  {
   "cell_type": "code",
   "execution_count": 19,
   "id": "9ffa3333",
   "metadata": {},
   "outputs": [
    {
     "data": {
      "text/plain": [
       "{'Arachnida': [0, 0, 0, 0, 0, 0, 0],\n",
       " 'Insecta': [0, 13, 0, 0, 17, 3, 0],\n",
       " 'Actinopterygii': [0, 0, 0, 0, 0, 0, 0],\n",
       " 'Amphibia': [0, 0, 0, 0, 13, 2, 0],\n",
       " 'Aves': [0, 5, 0, 0, 2554, 189, 0],\n",
       " 'Mammalia': [0, 5, 0, 0, 120, 308, 0],\n",
       " 'Reptilia': [0, 0, 0, 0, 0, 4, 0]}"
      ]
     },
     "execution_count": 19,
     "metadata": {},
     "output_type": "execute_result"
    }
   ],
   "source": [
    "confusion_matrix"
   ]
  }
 ],
 "metadata": {
  "kernelspec": {
   "display_name": "Python 3 (ipykernel)",
   "language": "python",
   "name": "python3"
  },
  "language_info": {
   "codemirror_mode": {
    "name": "ipython",
    "version": 3
   },
   "file_extension": ".py",
   "mimetype": "text/x-python",
   "name": "python",
   "nbconvert_exporter": "python",
   "pygments_lexer": "ipython3",
   "version": "3.9.7"
  }
 },
 "nbformat": 4,
 "nbformat_minor": 5
}
