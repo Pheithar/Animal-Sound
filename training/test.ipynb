{
 "cells": [
  {
   "cell_type": "code",
   "execution_count": 1,
   "id": "70048425",
   "metadata": {},
   "outputs": [],
   "source": [
    "import sys\n",
    "sys.path.append('../')\n",
    "\n",
    "from models import utils, Simple_CNN, Simple_LSTM, Hierarchical\n",
    "\n",
    "import torch\n",
    "from torchvision import transforms\n",
    "from torch.utils.data import DataLoader, random_split\n",
    "\n",
    "import matplotlib.pyplot as plt\n",
    "\n",
    "import numpy as np\n",
    "from importlib import reload\n",
    "\n",
    "import yaml"
   ]
  },
  {
   "cell_type": "code",
   "execution_count": 2,
   "id": "7a8115d0",
   "metadata": {},
   "outputs": [],
   "source": [
    "with open(\"./yamls/Hierarchy.yaml\", \"r\") as f:\n",
    "  net_params = yaml.load(f, Loader=yaml.FullLoader)"
   ]
  },
  {
   "cell_type": "code",
   "execution_count": 3,
   "id": "06b2edf7",
   "metadata": {},
   "outputs": [
    {
     "data": {
      "text/plain": [
       "{'phylum': {'class_Arthropoda': ['family_Arachnida', 'family_Insecta'],\n",
       "  'class_Chordata': ['family_Amphibia',\n",
       "   'family_Aves',\n",
       "   'family_Mammalia',\n",
       "   'family_Reptilia']}}"
      ]
     },
     "execution_count": 3,
     "metadata": {},
     "output_type": "execute_result"
    }
   ],
   "source": [
    "net_organization = net_params[\"net_organization\"]\n",
    "\n",
    "net_organization"
   ]
  },
  {
   "cell_type": "code",
   "execution_count": 4,
   "id": "1f4d4ab9",
   "metadata": {},
   "outputs": [
    {
     "data": {
      "text/plain": [
       "{'phylum': {'type': 'CNN',\n",
       "  'epochs': 5,\n",
       "  'lr': 0.001,\n",
       "  'order': [],\n",
       "  'log_file': 'test_train.log'},\n",
       " 'class_Arthropoda': {'type': 'CNN',\n",
       "  'epochs': 5,\n",
       "  'lr': 0.001,\n",
       "  'order': ['Arthropoda'],\n",
       "  'log_file': 'test_train.log'},\n",
       " 'family_Arachnida': {'type': 'CNN',\n",
       "  'epochs': 5,\n",
       "  'lr': 0.001,\n",
       "  'order': ['Arthropoda', 'Arachnida'],\n",
       "  'log_file': 'test_train.log'},\n",
       " 'family_Insecta': {'type': 'CNN',\n",
       "  'epochs': 5,\n",
       "  'lr': 0.001,\n",
       "  'order': ['Arthropoda', 'Insecta'],\n",
       "  'log_file': 'test_train.log'},\n",
       " 'class_Chordata': {'type': 'CNN',\n",
       "  'epochs': 5,\n",
       "  'lr': 0.001,\n",
       "  'order': ['Chordata'],\n",
       "  'log_file': 'test_train.log'},\n",
       " 'family_Actinopterygii': {'type': 'CNN',\n",
       "  'epochs': 5,\n",
       "  'lr': 0.001,\n",
       "  'order': ['Chordata', 'Actinopterygii'],\n",
       "  'log_file': 'test_train.log'},\n",
       " 'family_Amphibia': {'type': 'CNN',\n",
       "  'epochs': 5,\n",
       "  'lr': 0.001,\n",
       "  'order': ['Chordata', 'Amphibia'],\n",
       "  'log_file': 'test_train.log'},\n",
       " 'family_Aves': {'type': 'CNN',\n",
       "  'epochs': 5,\n",
       "  'lr': 0.001,\n",
       "  'order': ['Chordata', 'Aves'],\n",
       "  'log_file': 'test_train.log'},\n",
       " 'family_Mammalia': {'type': 'CNN',\n",
       "  'epochs': 5,\n",
       "  'lr': 0.001,\n",
       "  'order': ['Chordata', 'Mammalia'],\n",
       "  'log_file': 'test_train.log'},\n",
       " 'family_Reptilia': {'type': 'CNN',\n",
       "  'epochs': 5,\n",
       "  'lr': 0.001,\n",
       "  'order': ['Chordata', 'Reptilia'],\n",
       "  'log_file': 'test_train.log'}}"
      ]
     },
     "execution_count": 4,
     "metadata": {},
     "output_type": "execute_result"
    }
   ],
   "source": [
    "node_params = net_params[\"node_params\"]\n",
    "node_params"
   ]
  },
  {
   "cell_type": "code",
   "execution_count": 5,
   "id": "8faa5b28",
   "metadata": {},
   "outputs": [
    {
     "data": {
      "text/plain": [
       "{'phylum': {'input_shape': [3, 1024, 256],\n",
       "  'conv_channels': [8, 16, 32, 16, 8, 4],\n",
       "  'conv_kernel_size': [2, 2, 2, 2, 2, 2],\n",
       "  'pooling_size': [[2, 2], [2, 2], [2, 2], [2, 2], [2, 2], [2, 2]],\n",
       "  'conv_dropout': [0.0, 0.0, 0.2, 0.2, 0.0, 0.0],\n",
       "  'linear_features': [64, 2],\n",
       "  'linear_dropout': [0.4],\n",
       "  'last_layer_activation': 'Sigmoid()'},\n",
       " 'class_Arthropoda': {'input_shape': [3, 1024, 256],\n",
       "  'conv_channels': [8, 16, 32, 16, 8, 4],\n",
       "  'conv_kernel_size': [2, 2, 2, 2, 2, 2],\n",
       "  'pooling_size': [[2, 2], [2, 2], [2, 2], [2, 2], [2, 2], [2, 2]],\n",
       "  'conv_dropout': [0.0, 0.0, 0.2, 0.2, 0.0, 0.0],\n",
       "  'linear_features': [64, 2],\n",
       "  'linear_dropout': [0.4],\n",
       "  'last_layer_activation': 'Sigmoid()'},\n",
       " 'family_Arachnida': {'input_shape': [3, 1024, 256],\n",
       "  'conv_channels': [8, 16, 32, 16, 8, 4],\n",
       "  'conv_kernel_size': [2, 2, 2, 2, 2, 2],\n",
       "  'pooling_size': [[2, 2], [2, 2], [2, 2], [2, 2], [2, 2], [2, 2]],\n",
       "  'conv_dropout': [0.0, 0.0, 0.2, 0.2, 0.0, 0.0],\n",
       "  'linear_features': [64, 1],\n",
       "  'linear_dropout': [0.4],\n",
       "  'last_layer_activation': 'Sigmoid()'},\n",
       " 'family_Insecta': {'input_shape': [3, 1024, 256],\n",
       "  'conv_channels': [8, 16, 32, 16, 8, 4],\n",
       "  'conv_kernel_size': [2, 2, 2, 2, 2, 2],\n",
       "  'pooling_size': [[2, 2], [2, 2], [2, 2], [2, 2], [2, 2], [2, 2]],\n",
       "  'conv_dropout': [0.0, 0.0, 0.2, 0.2, 0.0, 0.0],\n",
       "  'linear_features': [64, 8],\n",
       "  'linear_dropout': [0.4],\n",
       "  'last_layer_activation': 'Sigmoid()'},\n",
       " 'class_Chordata': {'input_shape': [3, 1024, 256],\n",
       "  'conv_channels': [8, 16, 32, 16, 8, 4],\n",
       "  'conv_kernel_size': [2, 2, 2, 2, 2, 2],\n",
       "  'pooling_size': [[2, 2], [2, 2], [2, 2], [2, 2], [2, 2], [2, 2]],\n",
       "  'conv_dropout': [0.0, 0.0, 0.2, 0.2, 0.0, 0.0],\n",
       "  'linear_features': [64, 4],\n",
       "  'linear_dropout': [0.4],\n",
       "  'last_layer_activation': 'Sigmoid()'},\n",
       " 'family_Actinopterygii': {'input_shape': [3, 1024, 256],\n",
       "  'conv_channels': [8, 16, 32, 16, 8, 4],\n",
       "  'conv_kernel_size': [2, 2, 2, 2, 2, 2],\n",
       "  'pooling_size': [[2, 2], [2, 2], [2, 2], [2, 2], [2, 2], [2, 2]],\n",
       "  'conv_dropout': [0.0, 0.0, 0.2, 0.2, 0.0, 0.0],\n",
       "  'linear_features': [64, 5],\n",
       "  'linear_dropout': [0.4],\n",
       "  'last_layer_activation': 'Sigmoid()'},\n",
       " 'family_Amphibia': {'input_shape': [3, 1024, 256],\n",
       "  'conv_channels': [8, 16, 32, 16, 8, 4],\n",
       "  'conv_kernel_size': [2, 2, 2, 2, 2, 2],\n",
       "  'pooling_size': [[2, 2], [2, 2], [2, 2], [2, 2], [2, 2], [2, 2]],\n",
       "  'conv_dropout': [0.0, 0.0, 0.2, 0.2, 0.0, 0.0],\n",
       "  'linear_features': [64, 6],\n",
       "  'linear_dropout': [0.4],\n",
       "  'last_layer_activation': 'Sigmoid()'},\n",
       " 'family_Aves': {'input_shape': [3, 1024, 256],\n",
       "  'conv_channels': [8, 16, 32, 16, 8, 4],\n",
       "  'conv_kernel_size': [2, 2, 2, 2, 2, 2],\n",
       "  'pooling_size': [[2, 2], [2, 2], [2, 2], [2, 2], [2, 2], [2, 2]],\n",
       "  'conv_dropout': [0.0, 0.0, 0.2, 0.2, 0.0, 0.0],\n",
       "  'linear_features': [64, 102],\n",
       "  'linear_dropout': [0.4],\n",
       "  'last_layer_activation': 'Sigmoid()'},\n",
       " 'family_Mammalia': {'input_shape': [3, 1024, 256],\n",
       "  'conv_channels': [8, 16, 32, 16, 8, 4],\n",
       "  'conv_kernel_size': [2, 2, 2, 2, 2, 2],\n",
       "  'pooling_size': [[2, 2], [2, 2], [2, 2], [2, 2], [2, 2], [2, 2]],\n",
       "  'conv_dropout': [0.0, 0.0, 0.2, 0.2, 0.0, 0.0],\n",
       "  'linear_features': [64, 36],\n",
       "  'linear_dropout': [0.4],\n",
       "  'last_layer_activation': 'Sigmoid()'},\n",
       " 'family_Reptilia': {'input_shape': [3, 1024, 256],\n",
       "  'conv_channels': [8, 16, 32, 16, 8, 4],\n",
       "  'conv_kernel_size': [2, 2, 2, 2, 2, 2],\n",
       "  'pooling_size': [[2, 2], [2, 2], [2, 2], [2, 2], [2, 2], [2, 2]],\n",
       "  'conv_dropout': [0.0, 0.0, 0.2, 0.2, 0.0, 0.0],\n",
       "  'linear_features': [64, 1],\n",
       "  'linear_dropout': [0.4],\n",
       "  'last_layer_activation': 'Sigmoid()'}}"
      ]
     },
     "execution_count": 5,
     "metadata": {},
     "output_type": "execute_result"
    }
   ],
   "source": [
    "net_architecture = net_params[\"net_architecture\"]\n",
    "\n",
    "net_architecture"
   ]
  },
  {
   "cell_type": "code",
   "execution_count": 6,
   "id": "4d8dcec3",
   "metadata": {},
   "outputs": [],
   "source": [
    "# Parameters\n",
    "random_seed = 42\n",
    "\n",
    "net_name = \"test\""
   ]
  },
  {
   "cell_type": "code",
   "execution_count": 91,
   "id": "9b6f5fc8",
   "metadata": {},
   "outputs": [
    {
     "data": {
      "text/html": [
       "<div>\n",
       "<style scoped>\n",
       "    .dataframe tbody tr th:only-of-type {\n",
       "        vertical-align: middle;\n",
       "    }\n",
       "\n",
       "    .dataframe tbody tr th {\n",
       "        vertical-align: top;\n",
       "    }\n",
       "\n",
       "    .dataframe thead th {\n",
       "        text-align: right;\n",
       "    }\n",
       "</style>\n",
       "<table border=\"1\" class=\"dataframe\">\n",
       "  <thead>\n",
       "    <tr style=\"text-align: right;\">\n",
       "      <th></th>\n",
       "      <th>gbifID</th>\n",
       "      <th>species</th>\n",
       "      <th>genus</th>\n",
       "      <th>family</th>\n",
       "      <th>class</th>\n",
       "      <th>phylum</th>\n",
       "      <th>file_name</th>\n",
       "    </tr>\n",
       "  </thead>\n",
       "  <tbody>\n",
       "    <tr>\n",
       "      <th>0</th>\n",
       "      <td>1230246828</td>\n",
       "      <td>Pycnonotus nigricans</td>\n",
       "      <td>Pycnonotus</td>\n",
       "      <td>Pycnonotidae</td>\n",
       "      <td>Aves</td>\n",
       "      <td>Chordata</td>\n",
       "      <td>Chordata/Aves/Pycnonotidae/Pycnonotus/Pycnonot...</td>\n",
       "    </tr>\n",
       "    <tr>\n",
       "      <th>1</th>\n",
       "      <td>779853992</td>\n",
       "      <td>Emberiza hortulana</td>\n",
       "      <td>Emberiza</td>\n",
       "      <td>Emberizidae</td>\n",
       "      <td>Aves</td>\n",
       "      <td>Chordata</td>\n",
       "      <td>Chordata/Aves/Emberizidae/Emberiza/Emberiza_ho...</td>\n",
       "    </tr>\n",
       "    <tr>\n",
       "      <th>2</th>\n",
       "      <td>779849670</td>\n",
       "      <td>Cervus elaphus</td>\n",
       "      <td>Cervus</td>\n",
       "      <td>Cervidae</td>\n",
       "      <td>Mammalia</td>\n",
       "      <td>Chordata</td>\n",
       "      <td>Chordata/Mammalia/Cervidae/Cervus/Cervus_elaph...</td>\n",
       "    </tr>\n",
       "    <tr>\n",
       "      <th>3</th>\n",
       "      <td>1269848168</td>\n",
       "      <td>Numenius phaeopus</td>\n",
       "      <td>Numenius</td>\n",
       "      <td>Scolopacidae</td>\n",
       "      <td>Aves</td>\n",
       "      <td>Chordata</td>\n",
       "      <td>Chordata/Aves/Scolopacidae/Numenius/Numenius_p...</td>\n",
       "    </tr>\n",
       "    <tr>\n",
       "      <th>4</th>\n",
       "      <td>779860246</td>\n",
       "      <td>Neofelis nebulosa</td>\n",
       "      <td>Neofelis</td>\n",
       "      <td>Felidae</td>\n",
       "      <td>Mammalia</td>\n",
       "      <td>Chordata</td>\n",
       "      <td>Chordata/Mammalia/Felidae/Neofelis/Neofelis_ne...</td>\n",
       "    </tr>\n",
       "    <tr>\n",
       "      <th>...</th>\n",
       "      <td>...</td>\n",
       "      <td>...</td>\n",
       "      <td>...</td>\n",
       "      <td>...</td>\n",
       "      <td>...</td>\n",
       "      <td>...</td>\n",
       "      <td>...</td>\n",
       "    </tr>\n",
       "    <tr>\n",
       "      <th>1995</th>\n",
       "      <td>779852839</td>\n",
       "      <td>Dryobates minor</td>\n",
       "      <td>Dryobates</td>\n",
       "      <td>Picidae</td>\n",
       "      <td>Aves</td>\n",
       "      <td>Chordata</td>\n",
       "      <td>Chordata/Aves/Picidae/Dryobates/Dryobates_mino...</td>\n",
       "    </tr>\n",
       "    <tr>\n",
       "      <th>1996</th>\n",
       "      <td>991883728</td>\n",
       "      <td>Coccothraustes coccothraustes</td>\n",
       "      <td>Coccothraustes</td>\n",
       "      <td>Fringillidae</td>\n",
       "      <td>Aves</td>\n",
       "      <td>Chordata</td>\n",
       "      <td>Chordata/Aves/Fringillidae/Coccothraustes/Cocc...</td>\n",
       "    </tr>\n",
       "    <tr>\n",
       "      <th>1997</th>\n",
       "      <td>779865264</td>\n",
       "      <td>Rallus aquaticus</td>\n",
       "      <td>Rallus</td>\n",
       "      <td>Rallidae</td>\n",
       "      <td>Aves</td>\n",
       "      <td>Chordata</td>\n",
       "      <td>Chordata/Aves/Rallidae/Rallus/Rallus_aquaticus...</td>\n",
       "    </tr>\n",
       "    <tr>\n",
       "      <th>1998</th>\n",
       "      <td>1229953095</td>\n",
       "      <td>Colinus virginianus</td>\n",
       "      <td>Colinus</td>\n",
       "      <td>Odontophoridae</td>\n",
       "      <td>Aves</td>\n",
       "      <td>Chordata</td>\n",
       "      <td>Chordata/Aves/Odontophoridae/Colinus/Colinus_v...</td>\n",
       "    </tr>\n",
       "    <tr>\n",
       "      <th>1999</th>\n",
       "      <td>779869769</td>\n",
       "      <td>Vulpes corsac</td>\n",
       "      <td>Vulpes</td>\n",
       "      <td>Canidae</td>\n",
       "      <td>Mammalia</td>\n",
       "      <td>Chordata</td>\n",
       "      <td>Chordata/Mammalia/Canidae/Vulpes/Vulpes_corsac...</td>\n",
       "    </tr>\n",
       "  </tbody>\n",
       "</table>\n",
       "<p>2000 rows × 7 columns</p>\n",
       "</div>"
      ],
      "text/plain": [
       "          gbifID                        species           genus  \\\n",
       "0     1230246828           Pycnonotus nigricans      Pycnonotus   \n",
       "1      779853992             Emberiza hortulana        Emberiza   \n",
       "2      779849670                 Cervus elaphus          Cervus   \n",
       "3     1269848168              Numenius phaeopus        Numenius   \n",
       "4      779860246              Neofelis nebulosa        Neofelis   \n",
       "...          ...                            ...             ...   \n",
       "1995   779852839                Dryobates minor       Dryobates   \n",
       "1996   991883728  Coccothraustes coccothraustes  Coccothraustes   \n",
       "1997   779865264               Rallus aquaticus          Rallus   \n",
       "1998  1229953095            Colinus virginianus         Colinus   \n",
       "1999   779869769                  Vulpes corsac          Vulpes   \n",
       "\n",
       "              family     class    phylum  \\\n",
       "0       Pycnonotidae      Aves  Chordata   \n",
       "1        Emberizidae      Aves  Chordata   \n",
       "2           Cervidae  Mammalia  Chordata   \n",
       "3       Scolopacidae      Aves  Chordata   \n",
       "4            Felidae  Mammalia  Chordata   \n",
       "...              ...       ...       ...   \n",
       "1995         Picidae      Aves  Chordata   \n",
       "1996    Fringillidae      Aves  Chordata   \n",
       "1997        Rallidae      Aves  Chordata   \n",
       "1998  Odontophoridae      Aves  Chordata   \n",
       "1999         Canidae  Mammalia  Chordata   \n",
       "\n",
       "                                              file_name  \n",
       "0     Chordata/Aves/Pycnonotidae/Pycnonotus/Pycnonot...  \n",
       "1     Chordata/Aves/Emberizidae/Emberiza/Emberiza_ho...  \n",
       "2     Chordata/Mammalia/Cervidae/Cervus/Cervus_elaph...  \n",
       "3     Chordata/Aves/Scolopacidae/Numenius/Numenius_p...  \n",
       "4     Chordata/Mammalia/Felidae/Neofelis/Neofelis_ne...  \n",
       "...                                                 ...  \n",
       "1995  Chordata/Aves/Picidae/Dryobates/Dryobates_mino...  \n",
       "1996  Chordata/Aves/Fringillidae/Coccothraustes/Cocc...  \n",
       "1997  Chordata/Aves/Rallidae/Rallus/Rallus_aquaticus...  \n",
       "1998  Chordata/Aves/Odontophoridae/Colinus/Colinus_v...  \n",
       "1999  Chordata/Mammalia/Canidae/Vulpes/Vulpes_corsac...  \n",
       "\n",
       "[2000 rows x 7 columns]"
      ]
     },
     "execution_count": 91,
     "metadata": {},
     "output_type": "execute_result"
    }
   ],
   "source": [
    "reload(utils)\n",
    "\n",
    "transform_img = transforms.Compose(\n",
    "    [transforms.ToTensor(),\n",
    "     transforms.Normalize((0.5, 0.5, 0.5),(0.5, 0.5, 0.5))\n",
    "    ]\n",
    ")\n",
    "\n",
    "transform_labels = transforms.Compose(\n",
    "    [transforms.ToTensor()]\n",
    ")\n",
    "\n",
    "dataset = utils.HierarchicalDataset(\"../datasets/smallDatasetBroad.csv\",\n",
    "                                    \"../spectrograms/small_dataset_broad\",\n",
    "                                    \"../mfcc/\",\n",
    "                                    \"gbifID\",\n",
    "                                    [\"phylum\", \"class\", \"family\"],\n",
    "                                    transform=transform_img, preload=False)\n",
    "dataset.csv"
   ]
  },
  {
   "cell_type": "code",
   "execution_count": 128,
   "id": "d1774eca",
   "metadata": {},
   "outputs": [
    {
     "ename": "KeyError",
     "evalue": "'img_file'",
     "output_type": "error",
     "traceback": [
      "\u001b[0;31m---------------------------------------------------------------------------\u001b[0m",
      "\u001b[0;31mKeyError\u001b[0m                                  Traceback (most recent call last)",
      "\u001b[0;32m/tmp/ipykernel_43197/3972865634.py\u001b[0m in \u001b[0;36m<module>\u001b[0;34m\u001b[0m\n\u001b[1;32m      3\u001b[0m \u001b[0mtorch\u001b[0m\u001b[0;34m.\u001b[0m\u001b[0mcuda\u001b[0m\u001b[0;34m.\u001b[0m\u001b[0mempty_cache\u001b[0m\u001b[0;34m(\u001b[0m\u001b[0;34m)\u001b[0m\u001b[0;34m\u001b[0m\u001b[0;34m\u001b[0m\u001b[0m\n\u001b[1;32m      4\u001b[0m \u001b[0mreload\u001b[0m\u001b[0;34m(\u001b[0m\u001b[0mHierarchical\u001b[0m\u001b[0;34m)\u001b[0m\u001b[0;34m\u001b[0m\u001b[0;34m\u001b[0m\u001b[0m\n\u001b[0;32m----> 5\u001b[0;31m \u001b[0mH\u001b[0m \u001b[0;34m=\u001b[0m \u001b[0mHierarchical\u001b[0m\u001b[0;34m.\u001b[0m\u001b[0mHierarchicalClassification\u001b[0m\u001b[0;34m(\u001b[0m\u001b[0mnet_architecture\u001b[0m\u001b[0;34m,\u001b[0m \u001b[0mnode_params\u001b[0m\u001b[0;34m,\u001b[0m \u001b[0mnet_organization\u001b[0m\u001b[0;34m,\u001b[0m \u001b[0mdataset\u001b[0m\u001b[0;34m)\u001b[0m\u001b[0;34m\u001b[0m\u001b[0;34m\u001b[0m\u001b[0m\n\u001b[0m",
      "\u001b[0;32m~/Universidad/Deep Learning/Animal-Sound/training/../models/Hierarchical.py\u001b[0m in \u001b[0;36m__init__\u001b[0;34m(self, nets_arch, node_params, nets_organization, dataset, random_seed, batch_size, test_percentage)\u001b[0m\n\u001b[1;32m     25\u001b[0m         \u001b[0mself\u001b[0m\u001b[0;34m.\u001b[0m\u001b[0marchitectures\u001b[0m \u001b[0;34m=\u001b[0m \u001b[0mnets_arch\u001b[0m\u001b[0;34m\u001b[0m\u001b[0;34m\u001b[0m\u001b[0m\n\u001b[1;32m     26\u001b[0m         \u001b[0mself\u001b[0m\u001b[0;34m.\u001b[0m\u001b[0mnode_params\u001b[0m \u001b[0;34m=\u001b[0m \u001b[0mnode_params\u001b[0m\u001b[0;34m\u001b[0m\u001b[0;34m\u001b[0m\u001b[0m\n\u001b[0;32m---> 27\u001b[0;31m         \u001b[0mself\u001b[0m\u001b[0;34m.\u001b[0m\u001b[0mroot\u001b[0m \u001b[0;34m=\u001b[0m \u001b[0mself\u001b[0m\u001b[0;34m.\u001b[0m\u001b[0mbuild_tree\u001b[0m\u001b[0;34m(\u001b[0m\u001b[0mnets_organization\u001b[0m\u001b[0;34m)\u001b[0m\u001b[0;34m[\u001b[0m\u001b[0;36m0\u001b[0m\u001b[0;34m]\u001b[0m\u001b[0;34m\u001b[0m\u001b[0;34m\u001b[0m\u001b[0m\n\u001b[0m\u001b[1;32m     28\u001b[0m         \u001b[0mself\u001b[0m\u001b[0;34m.\u001b[0m\u001b[0mnodes\u001b[0m \u001b[0;34m=\u001b[0m \u001b[0mself\u001b[0m\u001b[0;34m.\u001b[0m\u001b[0mget_nodes\u001b[0m\u001b[0;34m(\u001b[0m\u001b[0mself\u001b[0m\u001b[0;34m.\u001b[0m\u001b[0mroot\u001b[0m\u001b[0;34m)\u001b[0m\u001b[0;34m\u001b[0m\u001b[0;34m\u001b[0m\u001b[0m\n\u001b[1;32m     29\u001b[0m \u001b[0;34m\u001b[0m\u001b[0m\n",
      "\u001b[0;32m~/Universidad/Deep Learning/Animal-Sound/training/../models/Hierarchical.py\u001b[0m in \u001b[0;36mbuild_tree\u001b[0;34m(self, organization)\u001b[0m\n\u001b[1;32m     44\u001b[0m         \u001b[0;32mif\u001b[0m \u001b[0misinstance\u001b[0m\u001b[0;34m(\u001b[0m\u001b[0morganization\u001b[0m\u001b[0;34m,\u001b[0m \u001b[0mdict\u001b[0m\u001b[0;34m)\u001b[0m\u001b[0;34m:\u001b[0m\u001b[0;34m\u001b[0m\u001b[0;34m\u001b[0m\u001b[0m\n\u001b[1;32m     45\u001b[0m             \u001b[0;32mfor\u001b[0m \u001b[0mkey\u001b[0m\u001b[0;34m,\u001b[0m \u001b[0mvalue\u001b[0m \u001b[0;32min\u001b[0m \u001b[0morganization\u001b[0m\u001b[0;34m.\u001b[0m\u001b[0mitems\u001b[0m\u001b[0;34m(\u001b[0m\u001b[0;34m)\u001b[0m\u001b[0;34m:\u001b[0m\u001b[0;34m\u001b[0m\u001b[0;34m\u001b[0m\u001b[0m\n\u001b[0;32m---> 46\u001b[0;31m                 \u001b[0mchild_nodes\u001b[0m \u001b[0;34m=\u001b[0m \u001b[0mself\u001b[0m\u001b[0;34m.\u001b[0m\u001b[0mbuild_tree\u001b[0m\u001b[0;34m(\u001b[0m\u001b[0mvalue\u001b[0m\u001b[0;34m)\u001b[0m\u001b[0;34m\u001b[0m\u001b[0;34m\u001b[0m\u001b[0m\n\u001b[0m\u001b[1;32m     47\u001b[0m \u001b[0;34m\u001b[0m\u001b[0m\n\u001b[1;32m     48\u001b[0m                 node = HierarchicalNode(key, child_nodes, self.architectures[key],\n",
      "\u001b[0;32m~/Universidad/Deep Learning/Animal-Sound/training/../models/Hierarchical.py\u001b[0m in \u001b[0;36mbuild_tree\u001b[0;34m(self, organization)\u001b[0m\n\u001b[1;32m     44\u001b[0m         \u001b[0;32mif\u001b[0m \u001b[0misinstance\u001b[0m\u001b[0;34m(\u001b[0m\u001b[0morganization\u001b[0m\u001b[0;34m,\u001b[0m \u001b[0mdict\u001b[0m\u001b[0;34m)\u001b[0m\u001b[0;34m:\u001b[0m\u001b[0;34m\u001b[0m\u001b[0;34m\u001b[0m\u001b[0m\n\u001b[1;32m     45\u001b[0m             \u001b[0;32mfor\u001b[0m \u001b[0mkey\u001b[0m\u001b[0;34m,\u001b[0m \u001b[0mvalue\u001b[0m \u001b[0;32min\u001b[0m \u001b[0morganization\u001b[0m\u001b[0;34m.\u001b[0m\u001b[0mitems\u001b[0m\u001b[0;34m(\u001b[0m\u001b[0;34m)\u001b[0m\u001b[0;34m:\u001b[0m\u001b[0;34m\u001b[0m\u001b[0;34m\u001b[0m\u001b[0m\n\u001b[0;32m---> 46\u001b[0;31m                 \u001b[0mchild_nodes\u001b[0m \u001b[0;34m=\u001b[0m \u001b[0mself\u001b[0m\u001b[0;34m.\u001b[0m\u001b[0mbuild_tree\u001b[0m\u001b[0;34m(\u001b[0m\u001b[0mvalue\u001b[0m\u001b[0;34m)\u001b[0m\u001b[0;34m\u001b[0m\u001b[0;34m\u001b[0m\u001b[0m\n\u001b[0m\u001b[1;32m     47\u001b[0m \u001b[0;34m\u001b[0m\u001b[0m\n\u001b[1;32m     48\u001b[0m                 node = HierarchicalNode(key, child_nodes, self.architectures[key],\n",
      "\u001b[0;32m~/Universidad/Deep Learning/Animal-Sound/training/../models/Hierarchical.py\u001b[0m in \u001b[0;36mbuild_tree\u001b[0;34m(self, organization)\u001b[0m\n\u001b[1;32m     53\u001b[0m \u001b[0;34m\u001b[0m\u001b[0m\n\u001b[1;32m     54\u001b[0m         \u001b[0;32mfor\u001b[0m \u001b[0mnode\u001b[0m \u001b[0;32min\u001b[0m \u001b[0morganization\u001b[0m\u001b[0;34m:\u001b[0m\u001b[0;34m\u001b[0m\u001b[0;34m\u001b[0m\u001b[0m\n\u001b[0;32m---> 55\u001b[0;31m             nodes.append(HierarchicalNode(node, [], self.architectures[node],\n\u001b[0m\u001b[1;32m     56\u001b[0m                                           self.node_params[node]))\n\u001b[1;32m     57\u001b[0m \u001b[0;34m\u001b[0m\u001b[0m\n",
      "\u001b[0;32m~/Universidad/Deep Learning/Animal-Sound/training/../models/Hierarchical.py\u001b[0m in \u001b[0;36m__init__\u001b[0;34m(self, name, childs, net_arch, params)\u001b[0m\n\u001b[1;32m    133\u001b[0m         \u001b[0mself\u001b[0m\u001b[0;34m.\u001b[0m\u001b[0mlr\u001b[0m \u001b[0;34m=\u001b[0m \u001b[0mparams\u001b[0m\u001b[0;34m[\u001b[0m\u001b[0;34m\"lr\"\u001b[0m\u001b[0;34m]\u001b[0m\u001b[0;34m\u001b[0m\u001b[0;34m\u001b[0m\u001b[0m\n\u001b[1;32m    134\u001b[0m         \u001b[0mself\u001b[0m\u001b[0;34m.\u001b[0m\u001b[0mlog_file\u001b[0m \u001b[0;34m=\u001b[0m \u001b[0mparams\u001b[0m\u001b[0;34m[\u001b[0m\u001b[0;34m\"log_file\"\u001b[0m\u001b[0;34m]\u001b[0m\u001b[0;34m\u001b[0m\u001b[0;34m\u001b[0m\u001b[0m\n\u001b[0;32m--> 135\u001b[0;31m         \u001b[0mself\u001b[0m\u001b[0;34m.\u001b[0m\u001b[0mimg_file\u001b[0m \u001b[0;34m=\u001b[0m \u001b[0mparams\u001b[0m\u001b[0;34m[\u001b[0m\u001b[0;34m\"img_file\"\u001b[0m\u001b[0;34m]\u001b[0m\u001b[0;34m\u001b[0m\u001b[0;34m\u001b[0m\u001b[0m\n\u001b[0m\u001b[1;32m    136\u001b[0m         \u001b[0mself\u001b[0m\u001b[0;34m.\u001b[0m\u001b[0mtype\u001b[0m \u001b[0;34m=\u001b[0m \u001b[0mparams\u001b[0m\u001b[0;34m[\u001b[0m\u001b[0;34m\"type\"\u001b[0m\u001b[0;34m]\u001b[0m\u001b[0;34m\u001b[0m\u001b[0;34m\u001b[0m\u001b[0m\n\u001b[1;32m    137\u001b[0m \u001b[0;34m\u001b[0m\u001b[0m\n",
      "\u001b[0;31mKeyError\u001b[0m: 'img_file'"
     ]
    }
   ],
   "source": [
    "reload(Hierarchical)\n",
    "\n",
    "torch.cuda.empty_cache()\n",
    "reload(Hierarchical)\n",
    "H = Hierarchical.HierarchicalClassification(net_architecture, node_params, net_organization, dataset)"
   ]
  },
  {
   "cell_type": "code",
   "execution_count": 121,
   "id": "0f6d3e5c",
   "metadata": {},
   "outputs": [
    {
     "data": {
      "text/plain": [
       "0.25"
      ]
     },
     "execution_count": 121,
     "metadata": {},
     "output_type": "execute_result"
    }
   ],
   "source": [
    "0.125/50 * 100"
   ]
  },
  {
   "cell_type": "code",
   "execution_count": 9,
   "id": "a433fe77",
   "metadata": {},
   "outputs": [
    {
     "data": {
      "text/plain": [
       "array([[0.46764591, 0.49666923],\n",
       "       [0.94328308, 1.02254701],\n",
       "       [1.21293542, 1.18626925],\n",
       "       [2.11199021, 1.65704405],\n",
       "       [2.94863075, 2.16121361],\n",
       "       [3.21368623, 2.37944949],\n",
       "       [4.61097169, 3.84166753],\n",
       "       [4.8654685 , 4.40672684]])"
      ]
     },
     "execution_count": 9,
     "metadata": {},
     "output_type": "execute_result"
    }
   ],
   "source": [
    "H.root.forward(x_test) * np.array([1, 2, 3, 4, 5, 6, 7, 8])[:, None]"
   ]
  },
  {
   "cell_type": "code",
   "execution_count": 25,
   "id": "7c0941ce",
   "metadata": {},
   "outputs": [
    {
     "data": {
      "text/plain": [
       "tensor(0., dtype=torch.float64)"
      ]
     },
     "execution_count": 25,
     "metadata": {},
     "output_type": "execute_result"
    }
   ],
   "source": [
    "x_test = next(iter(H.train_loader))"
   ]
  },
  {
   "cell_type": "code",
   "execution_count": 88,
   "id": "ec1ba462",
   "metadata": {},
   "outputs": [
    {
     "data": {
      "text/plain": [
       "(445,)"
      ]
     },
     "execution_count": 88,
     "metadata": {},
     "output_type": "execute_result"
    }
   ],
   "source": [
    "H.dataset.flatten_labels[\"Pycnonotus\"].shape"
   ]
  },
  {
   "cell_type": "code",
   "execution_count": null,
   "id": "40998d1f",
   "metadata": {},
   "outputs": [],
   "source": []
  }
 ],
 "metadata": {
  "kernelspec": {
   "display_name": "Python 3 (ipykernel)",
   "language": "python",
   "name": "python3"
  },
  "language_info": {
   "codemirror_mode": {
    "name": "ipython",
    "version": 3
   },
   "file_extension": ".py",
   "mimetype": "text/x-python",
   "name": "python",
   "nbconvert_exporter": "python",
   "pygments_lexer": "ipython3",
   "version": "3.9.7"
  }
 },
 "nbformat": 4,
 "nbformat_minor": 5
}
