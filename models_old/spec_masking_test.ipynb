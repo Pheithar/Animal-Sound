{
 "cells": [
  {
   "cell_type": "code",
   "execution_count": null,
   "metadata": {},
   "outputs": [],
   "source": [
    "import utils\n",
    "\n",
    "import matplotlib.pyplot as plt\n",
    "\n",
    "import torch\n",
    "import torchsummary\n",
    "from torchvision import transforms\n",
    "import torchaudio\n",
    "\n",
    "import torch.nn as nn\n",
    "import torch.optim as optim\n",
    "from torch.utils.data import random_split\n",
    "\n",
    "from torch.utils.data import DataLoader\n",
    "\n",
    "import numpy as np\n",
    "from importlib import reload\n",
    "\n",
    "import yaml"
   ]
  },
  {
   "cell_type": "code",
   "execution_count": null,
   "metadata": {},
   "outputs": [],
   "source": [
    "random_seed = 42"
   ]
  },
  {
   "cell_type": "code",
   "execution_count": null,
   "metadata": {},
   "outputs": [],
   "source": [
    "reload(utils)\n",
    "\n",
    "transform_img = transforms.Compose(\n",
    "    [\n",
    "        transforms.ToTensor(),\n",
    "        # torchaudio.transforms.FrequencyMasking(freq_mask_param=40),\n",
    "        # torchaudio.transforms.TimeMasking(time_mask_param=40),\n",
    "        transforms.Normalize((.5, .5, .5), (.5, .5, .5)),\n",
    "    ]\n",
    ")\n",
    "\n",
    "transform_labels = transforms.Compose(\n",
    "    [\n",
    "        transforms.ToTensor()\n",
    "    ]\n",
    ")\n",
    "\n",
    "dataset = utils.SpectrogramDataset(\"../datasets/Aves-Mammalia.csv\", \n",
    "                                   \"../spectrograms/small_dataset\", \n",
    "                                   \"gbifID\", \"class\",\n",
    "                                   transform=transform_img,\n",
    "                                   one_hot_encode_labels=True)\n",
    "\n",
    "dataset.show_sample()"
   ]
  },
  {
   "cell_type": "code",
   "execution_count": null,
   "metadata": {},
   "outputs": [],
   "source": [
    "dataset.csv.iloc[157]"
   ]
  }
 ],
 "metadata": {
  "interpreter": {
   "hash": "05ec5b253bfbbd0f3665b561f42f8ff4c11567d04d42cfb2c6dadb81cf478878"
  },
  "kernelspec": {
   "display_name": "Python 3 (ipykernel)",
   "language": "python",
   "name": "python3"
  },
  "language_info": {
   "codemirror_mode": {
    "name": "ipython",
    "version": 3
   },
   "file_extension": ".py",
   "mimetype": "text/x-python",
   "name": "python",
   "nbconvert_exporter": "python",
   "pygments_lexer": "ipython3",
   "version": "3.9.7"
  }
 },
 "nbformat": 4,
 "nbformat_minor": 2
}
