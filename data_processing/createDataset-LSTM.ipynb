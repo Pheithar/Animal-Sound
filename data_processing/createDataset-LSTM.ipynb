{
 "cells": [
  {
   "cell_type": "markdown",
   "id": "c0ff8a01",
   "metadata": {},
   "source": [
    "# Dataset for LSTM"
   ]
  },
  {
   "cell_type": "code",
   "execution_count": 1,
   "id": "01ad5141",
   "metadata": {},
   "outputs": [],
   "source": [
    "import pandas as pd\n",
    "import numpy as np\n",
    "\n",
    "import torchaudio\n",
    "import torchaudio.transforms as T\n",
    "\n",
    "from tqdm.notebook import tqdm\n",
    "\n",
    "import matplotlib.pyplot as plt\n",
    "\n",
    "import librosa\n",
    "\n",
    "import h5py\n",
    "\n",
    "import warnings\n",
    "warnings.filterwarnings(\"ignore\")"
   ]
  },
  {
   "cell_type": "code",
   "execution_count": 2,
   "id": "2303bf9a",
   "metadata": {},
   "outputs": [
    {
     "data": {
      "text/html": [
       "<div>\n",
       "<style scoped>\n",
       "    .dataframe tbody tr th:only-of-type {\n",
       "        vertical-align: middle;\n",
       "    }\n",
       "\n",
       "    .dataframe tbody tr th {\n",
       "        vertical-align: top;\n",
       "    }\n",
       "\n",
       "    .dataframe thead th {\n",
       "        text-align: right;\n",
       "    }\n",
       "</style>\n",
       "<table border=\"1\" class=\"dataframe\">\n",
       "  <thead>\n",
       "    <tr style=\"text-align: right;\">\n",
       "      <th></th>\n",
       "      <th>gbifID</th>\n",
       "      <th>identifier</th>\n",
       "      <th>species</th>\n",
       "      <th>genus</th>\n",
       "      <th>family</th>\n",
       "      <th>class</th>\n",
       "      <th>phylum</th>\n",
       "      <th>file_name</th>\n",
       "    </tr>\n",
       "  </thead>\n",
       "  <tbody>\n",
       "    <tr>\n",
       "      <th>0</th>\n",
       "      <td>1572324720</td>\n",
       "      <td>http://www.tierstimmenarchiv.de/recordings/Cre...</td>\n",
       "      <td>Crex crex</td>\n",
       "      <td>Crex</td>\n",
       "      <td>Rallidae</td>\n",
       "      <td>Aves</td>\n",
       "      <td>Chordata</td>\n",
       "      <td>Chordata/Aves/Rallidae/Crex/Crex_crex/15723247...</td>\n",
       "    </tr>\n",
       "    <tr>\n",
       "      <th>1</th>\n",
       "      <td>1572324719</td>\n",
       "      <td>http://www.tierstimmenarchiv.de/recordings/Cre...</td>\n",
       "      <td>Crex crex</td>\n",
       "      <td>Crex</td>\n",
       "      <td>Rallidae</td>\n",
       "      <td>Aves</td>\n",
       "      <td>Chordata</td>\n",
       "      <td>Chordata/Aves/Rallidae/Crex/Crex_crex/15723247...</td>\n",
       "    </tr>\n",
       "    <tr>\n",
       "      <th>2</th>\n",
       "      <td>1572324718</td>\n",
       "      <td>http://www.tierstimmenarchiv.de/recordings/Cre...</td>\n",
       "      <td>Crex crex</td>\n",
       "      <td>Crex</td>\n",
       "      <td>Rallidae</td>\n",
       "      <td>Aves</td>\n",
       "      <td>Chordata</td>\n",
       "      <td>Chordata/Aves/Rallidae/Crex/Crex_crex/15723247...</td>\n",
       "    </tr>\n",
       "    <tr>\n",
       "      <th>3</th>\n",
       "      <td>1572324717</td>\n",
       "      <td>http://www.tierstimmenarchiv.de/recordings/Cre...</td>\n",
       "      <td>Crex crex</td>\n",
       "      <td>Crex</td>\n",
       "      <td>Rallidae</td>\n",
       "      <td>Aves</td>\n",
       "      <td>Chordata</td>\n",
       "      <td>Chordata/Aves/Rallidae/Crex/Crex_crex/15723247...</td>\n",
       "    </tr>\n",
       "    <tr>\n",
       "      <th>4</th>\n",
       "      <td>1572324716</td>\n",
       "      <td>http://www.tierstimmenarchiv.de/recordings/Cre...</td>\n",
       "      <td>Crex crex</td>\n",
       "      <td>Crex</td>\n",
       "      <td>Rallidae</td>\n",
       "      <td>Aves</td>\n",
       "      <td>Chordata</td>\n",
       "      <td>Chordata/Aves/Rallidae/Crex/Crex_crex/15723247...</td>\n",
       "    </tr>\n",
       "  </tbody>\n",
       "</table>\n",
       "</div>"
      ],
      "text/plain": [
       "       gbifID                                         identifier    species  \\\n",
       "0  1572324720  http://www.tierstimmenarchiv.de/recordings/Cre...  Crex crex   \n",
       "1  1572324719  http://www.tierstimmenarchiv.de/recordings/Cre...  Crex crex   \n",
       "2  1572324718  http://www.tierstimmenarchiv.de/recordings/Cre...  Crex crex   \n",
       "3  1572324717  http://www.tierstimmenarchiv.de/recordings/Cre...  Crex crex   \n",
       "4  1572324716  http://www.tierstimmenarchiv.de/recordings/Cre...  Crex crex   \n",
       "\n",
       "  genus    family class    phylum  \\\n",
       "0  Crex  Rallidae  Aves  Chordata   \n",
       "1  Crex  Rallidae  Aves  Chordata   \n",
       "2  Crex  Rallidae  Aves  Chordata   \n",
       "3  Crex  Rallidae  Aves  Chordata   \n",
       "4  Crex  Rallidae  Aves  Chordata   \n",
       "\n",
       "                                           file_name  \n",
       "0  Chordata/Aves/Rallidae/Crex/Crex_crex/15723247...  \n",
       "1  Chordata/Aves/Rallidae/Crex/Crex_crex/15723247...  \n",
       "2  Chordata/Aves/Rallidae/Crex/Crex_crex/15723247...  \n",
       "3  Chordata/Aves/Rallidae/Crex/Crex_crex/15723247...  \n",
       "4  Chordata/Aves/Rallidae/Crex/Crex_crex/15723247...  "
      ]
     },
     "execution_count": 2,
     "metadata": {},
     "output_type": "execute_result"
    }
   ],
   "source": [
    "df = pd.read_csv(\"../datasets/AnimalSoundFull.csv\")\n",
    "df.head()"
   ]
  },
  {
   "cell_type": "code",
   "execution_count": 3,
   "id": "d5e5de17",
   "metadata": {},
   "outputs": [],
   "source": [
    "def getMFCC(row):  \n",
    "  y, sample_rate = librosa.load(\"../data/\" + row.file_name)\n",
    "  MFCC = librosa.feature.mfcc(y=y, sr=sample_rate)\n",
    "    \n",
    "  np.savez(f\"../mfcc/{row['gbifID']}.npz\", data=MFCC)\n",
    "  \n",
    "  return "
   ]
  },
  {
   "cell_type": "code",
   "execution_count": 4,
   "id": "81debeb8",
   "metadata": {},
   "outputs": [],
   "source": [
    "tqdm.pandas(desc=\"Creating MFCC\")"
   ]
  },
  {
   "cell_type": "code",
   "execution_count": 5,
   "id": "a81fc8c3",
   "metadata": {},
   "outputs": [
    {
     "data": {
      "application/vnd.jupyter.widget-view+json": {
       "model_id": "fed23057f9fd4d0b9b507e93f88e0f75",
       "version_major": 2,
       "version_minor": 0
      },
      "text/plain": [
       "Creating MFCC:   0%|          | 0/16172 [00:00<?, ?it/s]"
      ]
     },
     "metadata": {},
     "output_type": "display_data"
    }
   ],
   "source": [
    "_ = df.progress_apply(getMFCC, axis=1)"
   ]
  }
 ],
 "metadata": {
  "kernelspec": {
   "display_name": "Python 3 (ipykernel)",
   "language": "python",
   "name": "python3"
  },
  "language_info": {
   "codemirror_mode": {
    "name": "ipython",
    "version": 3
   },
   "file_extension": ".py",
   "mimetype": "text/x-python",
   "name": "python",
   "nbconvert_exporter": "python",
   "pygments_lexer": "ipython3",
   "version": "3.9.7"
  }
 },
 "nbformat": 4,
 "nbformat_minor": 5
}
