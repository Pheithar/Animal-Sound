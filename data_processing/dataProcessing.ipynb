{
 "cells": [
  {
   "cell_type": "markdown",
   "source": [
    "# Data Processing\n",
    "\n",
    "The first step in data processing is obtaining and preparing the data. We used the Animal Sound Archive, it is available in the folder `animal-sound`.\n",
    "\n",
    "As one can see, there are many files in that folder. The relevants files are `occurrence.txt` and `multimedia.txt`. The first has information about each ocurrence, and the second has the links to the audio files."
   ],
   "metadata": {}
  },
  {
   "cell_type": "markdown",
   "source": [
    "## Imports"
   ],
   "metadata": {}
  },
  {
   "cell_type": "code",
   "execution_count": 1,
   "source": [
    "import pandas as pd\r\n",
    "import dask.dataframe as dd\r\n",
    "from dask.multiprocessing import get\r\n",
    "\r\n",
    "import numpy as np\r\n",
    "from tqdm.notebook import tqdm\r\n",
    "\r\n",
    "import requests\r\n",
    "\r\n",
    "import os\r\n",
    "import shutil\r\n",
    "\r\n",
    "import librosa\r\n",
    "\r\n",
    "import warnings\r\n",
    "\r\n",
    "import torchaudio\r\n",
    "import torchaudio.transforms as T\r\n",
    "\r\n",
    "import matplotlib.pyplot as plt\r\n",
    "\r\n",
    "import warnings"
   ],
   "outputs": [],
   "metadata": {}
  },
  {
   "cell_type": "markdown",
   "source": [
    "## Merging dataframes\n",
    "\n",
    "Before anything else, we have to merge the relevant data in the files."
   ],
   "metadata": {}
  },
  {
   "cell_type": "code",
   "execution_count": 2,
   "source": [
    "ocurrences = pd.read_csv(\"../animal-sound/occurrence.txt\",\r\n",
    "                         delimiter=\"\\t\")\r\n",
    "ocurrences.head()"
   ],
   "outputs": [
    {
     "output_type": "stream",
     "name": "stderr",
     "text": [
      "c:\\Users\\gusta\\Git\\Animal-Sound\\venv\\lib\\site-packages\\IPython\\core\\interactiveshell.py:3444: DtypeWarning: Columns (198) have mixed types.Specify dtype option on import or set low_memory=False.\n",
      "  exec(code_obj, self.user_global_ns, self.user_ns)\n"
     ]
    },
    {
     "output_type": "execute_result",
     "data": {
      "text/html": [
       "<div>\n",
       "<style scoped>\n",
       "    .dataframe tbody tr th:only-of-type {\n",
       "        vertical-align: middle;\n",
       "    }\n",
       "\n",
       "    .dataframe tbody tr th {\n",
       "        vertical-align: top;\n",
       "    }\n",
       "\n",
       "    .dataframe thead th {\n",
       "        text-align: right;\n",
       "    }\n",
       "</style>\n",
       "<table border=\"1\" class=\"dataframe\">\n",
       "  <thead>\n",
       "    <tr style=\"text-align: right;\">\n",
       "      <th></th>\n",
       "      <th>gbifID</th>\n",
       "      <th>abstract</th>\n",
       "      <th>accessRights</th>\n",
       "      <th>accrualMethod</th>\n",
       "      <th>accrualPeriodicity</th>\n",
       "      <th>accrualPolicy</th>\n",
       "      <th>alternative</th>\n",
       "      <th>audience</th>\n",
       "      <th>available</th>\n",
       "      <th>bibliographicCitation</th>\n",
       "      <th>...</th>\n",
       "      <th>identifiedByID</th>\n",
       "      <th>level0Gid</th>\n",
       "      <th>level0Name</th>\n",
       "      <th>level1Gid</th>\n",
       "      <th>level1Name</th>\n",
       "      <th>level2Gid</th>\n",
       "      <th>level2Name</th>\n",
       "      <th>level3Gid</th>\n",
       "      <th>level3Name</th>\n",
       "      <th>iucnRedListCategory</th>\n",
       "    </tr>\n",
       "  </thead>\n",
       "  <tbody>\n",
       "    <tr>\n",
       "      <th>0</th>\n",
       "      <td>1572324720</td>\n",
       "      <td>NaN</td>\n",
       "      <td>NaN</td>\n",
       "      <td>NaN</td>\n",
       "      <td>NaN</td>\n",
       "      <td>NaN</td>\n",
       "      <td>NaN</td>\n",
       "      <td>NaN</td>\n",
       "      <td>NaN</td>\n",
       "      <td>NaN</td>\n",
       "      <td>...</td>\n",
       "      <td>NaN</td>\n",
       "      <td>DEU</td>\n",
       "      <td>Germany</td>\n",
       "      <td>DEU.4_1</td>\n",
       "      <td>Brandenburg</td>\n",
       "      <td>DEU.4.18_1</td>\n",
       "      <td>Uckermark</td>\n",
       "      <td>DEU.4.18.11_1</td>\n",
       "      <td>Schwedt/Oder</td>\n",
       "      <td>LC</td>\n",
       "    </tr>\n",
       "    <tr>\n",
       "      <th>1</th>\n",
       "      <td>1572324719</td>\n",
       "      <td>NaN</td>\n",
       "      <td>NaN</td>\n",
       "      <td>NaN</td>\n",
       "      <td>NaN</td>\n",
       "      <td>NaN</td>\n",
       "      <td>NaN</td>\n",
       "      <td>NaN</td>\n",
       "      <td>NaN</td>\n",
       "      <td>NaN</td>\n",
       "      <td>...</td>\n",
       "      <td>NaN</td>\n",
       "      <td>DEU</td>\n",
       "      <td>Germany</td>\n",
       "      <td>DEU.4_1</td>\n",
       "      <td>Brandenburg</td>\n",
       "      <td>DEU.4.18_1</td>\n",
       "      <td>Uckermark</td>\n",
       "      <td>DEU.4.18.11_1</td>\n",
       "      <td>Schwedt/Oder</td>\n",
       "      <td>LC</td>\n",
       "    </tr>\n",
       "    <tr>\n",
       "      <th>2</th>\n",
       "      <td>1572324718</td>\n",
       "      <td>NaN</td>\n",
       "      <td>NaN</td>\n",
       "      <td>NaN</td>\n",
       "      <td>NaN</td>\n",
       "      <td>NaN</td>\n",
       "      <td>NaN</td>\n",
       "      <td>NaN</td>\n",
       "      <td>NaN</td>\n",
       "      <td>NaN</td>\n",
       "      <td>...</td>\n",
       "      <td>NaN</td>\n",
       "      <td>DEU</td>\n",
       "      <td>Germany</td>\n",
       "      <td>DEU.4_1</td>\n",
       "      <td>Brandenburg</td>\n",
       "      <td>DEU.4.18_1</td>\n",
       "      <td>Uckermark</td>\n",
       "      <td>DEU.4.18.11_1</td>\n",
       "      <td>Schwedt/Oder</td>\n",
       "      <td>LC</td>\n",
       "    </tr>\n",
       "    <tr>\n",
       "      <th>3</th>\n",
       "      <td>1572324717</td>\n",
       "      <td>NaN</td>\n",
       "      <td>NaN</td>\n",
       "      <td>NaN</td>\n",
       "      <td>NaN</td>\n",
       "      <td>NaN</td>\n",
       "      <td>NaN</td>\n",
       "      <td>NaN</td>\n",
       "      <td>NaN</td>\n",
       "      <td>NaN</td>\n",
       "      <td>...</td>\n",
       "      <td>NaN</td>\n",
       "      <td>DEU</td>\n",
       "      <td>Germany</td>\n",
       "      <td>DEU.4_1</td>\n",
       "      <td>Brandenburg</td>\n",
       "      <td>DEU.4.18_1</td>\n",
       "      <td>Uckermark</td>\n",
       "      <td>DEU.4.18.1_1</td>\n",
       "      <td>Angermünde</td>\n",
       "      <td>LC</td>\n",
       "    </tr>\n",
       "    <tr>\n",
       "      <th>4</th>\n",
       "      <td>1572324716</td>\n",
       "      <td>NaN</td>\n",
       "      <td>NaN</td>\n",
       "      <td>NaN</td>\n",
       "      <td>NaN</td>\n",
       "      <td>NaN</td>\n",
       "      <td>NaN</td>\n",
       "      <td>NaN</td>\n",
       "      <td>NaN</td>\n",
       "      <td>NaN</td>\n",
       "      <td>...</td>\n",
       "      <td>NaN</td>\n",
       "      <td>DEU</td>\n",
       "      <td>Germany</td>\n",
       "      <td>DEU.4_1</td>\n",
       "      <td>Brandenburg</td>\n",
       "      <td>DEU.4.18_1</td>\n",
       "      <td>Uckermark</td>\n",
       "      <td>DEU.4.18.11_1</td>\n",
       "      <td>Schwedt/Oder</td>\n",
       "      <td>LC</td>\n",
       "    </tr>\n",
       "  </tbody>\n",
       "</table>\n",
       "<p>5 rows × 250 columns</p>\n",
       "</div>"
      ],
      "text/plain": [
       "       gbifID  abstract  accessRights  accrualMethod  accrualPeriodicity  \\\n",
       "0  1572324720       NaN           NaN            NaN                 NaN   \n",
       "1  1572324719       NaN           NaN            NaN                 NaN   \n",
       "2  1572324718       NaN           NaN            NaN                 NaN   \n",
       "3  1572324717       NaN           NaN            NaN                 NaN   \n",
       "4  1572324716       NaN           NaN            NaN                 NaN   \n",
       "\n",
       "   accrualPolicy  alternative  audience  available  bibliographicCitation  \\\n",
       "0            NaN          NaN       NaN        NaN                    NaN   \n",
       "1            NaN          NaN       NaN        NaN                    NaN   \n",
       "2            NaN          NaN       NaN        NaN                    NaN   \n",
       "3            NaN          NaN       NaN        NaN                    NaN   \n",
       "4            NaN          NaN       NaN        NaN                    NaN   \n",
       "\n",
       "   ...  identifiedByID  level0Gid  level0Name  level1Gid   level1Name  \\\n",
       "0  ...             NaN        DEU     Germany    DEU.4_1  Brandenburg   \n",
       "1  ...             NaN        DEU     Germany    DEU.4_1  Brandenburg   \n",
       "2  ...             NaN        DEU     Germany    DEU.4_1  Brandenburg   \n",
       "3  ...             NaN        DEU     Germany    DEU.4_1  Brandenburg   \n",
       "4  ...             NaN        DEU     Germany    DEU.4_1  Brandenburg   \n",
       "\n",
       "    level2Gid  level2Name      level3Gid    level3Name  iucnRedListCategory  \n",
       "0  DEU.4.18_1   Uckermark  DEU.4.18.11_1  Schwedt/Oder                   LC  \n",
       "1  DEU.4.18_1   Uckermark  DEU.4.18.11_1  Schwedt/Oder                   LC  \n",
       "2  DEU.4.18_1   Uckermark  DEU.4.18.11_1  Schwedt/Oder                   LC  \n",
       "3  DEU.4.18_1   Uckermark   DEU.4.18.1_1    Angermünde                   LC  \n",
       "4  DEU.4.18_1   Uckermark  DEU.4.18.11_1  Schwedt/Oder                   LC  \n",
       "\n",
       "[5 rows x 250 columns]"
      ]
     },
     "metadata": {},
     "execution_count": 2
    }
   ],
   "metadata": {}
  },
  {
   "cell_type": "markdown",
   "source": [
    "We can see that the `ocurrences.txt` file has a lot of columns, and most of them are filled with `NaN`. We have to get only the columns that are relevant to the problem: \n",
    " - **gbifID**\n",
    " - **species**\n",
    " - **genus**\n",
    " - **family**\n",
    " - **class**\n",
    " - **phylum**"
   ],
   "metadata": {}
  },
  {
   "cell_type": "code",
   "execution_count": 3,
   "source": [
    "ocurrences = ocurrences[[\"gbifID\", \"species\", \"genus\", \"family\", \"class\", \"phylum\"]]\r\n",
    "ocurrences.head()"
   ],
   "outputs": [
    {
     "output_type": "execute_result",
     "data": {
      "text/html": [
       "<div>\n",
       "<style scoped>\n",
       "    .dataframe tbody tr th:only-of-type {\n",
       "        vertical-align: middle;\n",
       "    }\n",
       "\n",
       "    .dataframe tbody tr th {\n",
       "        vertical-align: top;\n",
       "    }\n",
       "\n",
       "    .dataframe thead th {\n",
       "        text-align: right;\n",
       "    }\n",
       "</style>\n",
       "<table border=\"1\" class=\"dataframe\">\n",
       "  <thead>\n",
       "    <tr style=\"text-align: right;\">\n",
       "      <th></th>\n",
       "      <th>gbifID</th>\n",
       "      <th>species</th>\n",
       "      <th>genus</th>\n",
       "      <th>family</th>\n",
       "      <th>class</th>\n",
       "      <th>phylum</th>\n",
       "    </tr>\n",
       "  </thead>\n",
       "  <tbody>\n",
       "    <tr>\n",
       "      <th>0</th>\n",
       "      <td>1572324720</td>\n",
       "      <td>Crex crex</td>\n",
       "      <td>Crex</td>\n",
       "      <td>Rallidae</td>\n",
       "      <td>Aves</td>\n",
       "      <td>Chordata</td>\n",
       "    </tr>\n",
       "    <tr>\n",
       "      <th>1</th>\n",
       "      <td>1572324719</td>\n",
       "      <td>Crex crex</td>\n",
       "      <td>Crex</td>\n",
       "      <td>Rallidae</td>\n",
       "      <td>Aves</td>\n",
       "      <td>Chordata</td>\n",
       "    </tr>\n",
       "    <tr>\n",
       "      <th>2</th>\n",
       "      <td>1572324718</td>\n",
       "      <td>Crex crex</td>\n",
       "      <td>Crex</td>\n",
       "      <td>Rallidae</td>\n",
       "      <td>Aves</td>\n",
       "      <td>Chordata</td>\n",
       "    </tr>\n",
       "    <tr>\n",
       "      <th>3</th>\n",
       "      <td>1572324717</td>\n",
       "      <td>Crex crex</td>\n",
       "      <td>Crex</td>\n",
       "      <td>Rallidae</td>\n",
       "      <td>Aves</td>\n",
       "      <td>Chordata</td>\n",
       "    </tr>\n",
       "    <tr>\n",
       "      <th>4</th>\n",
       "      <td>1572324716</td>\n",
       "      <td>Crex crex</td>\n",
       "      <td>Crex</td>\n",
       "      <td>Rallidae</td>\n",
       "      <td>Aves</td>\n",
       "      <td>Chordata</td>\n",
       "    </tr>\n",
       "  </tbody>\n",
       "</table>\n",
       "</div>"
      ],
      "text/plain": [
       "       gbifID    species genus    family class    phylum\n",
       "0  1572324720  Crex crex  Crex  Rallidae  Aves  Chordata\n",
       "1  1572324719  Crex crex  Crex  Rallidae  Aves  Chordata\n",
       "2  1572324718  Crex crex  Crex  Rallidae  Aves  Chordata\n",
       "3  1572324717  Crex crex  Crex  Rallidae  Aves  Chordata\n",
       "4  1572324716  Crex crex  Crex  Rallidae  Aves  Chordata"
      ]
     },
     "metadata": {},
     "execution_count": 3
    }
   ],
   "metadata": {}
  },
  {
   "cell_type": "code",
   "execution_count": 4,
   "source": [
    "multimedia = pd.read_csv(\"../animal-sound/multimedia.txt\",\r\n",
    "                         delimiter=\"\\t\")\r\n",
    "multimedia.head()"
   ],
   "outputs": [
    {
     "output_type": "execute_result",
     "data": {
      "text/html": [
       "<div>\n",
       "<style scoped>\n",
       "    .dataframe tbody tr th:only-of-type {\n",
       "        vertical-align: middle;\n",
       "    }\n",
       "\n",
       "    .dataframe tbody tr th {\n",
       "        vertical-align: top;\n",
       "    }\n",
       "\n",
       "    .dataframe thead th {\n",
       "        text-align: right;\n",
       "    }\n",
       "</style>\n",
       "<table border=\"1\" class=\"dataframe\">\n",
       "  <thead>\n",
       "    <tr style=\"text-align: right;\">\n",
       "      <th></th>\n",
       "      <th>gbifID</th>\n",
       "      <th>type</th>\n",
       "      <th>format</th>\n",
       "      <th>identifier</th>\n",
       "      <th>references</th>\n",
       "      <th>title</th>\n",
       "      <th>description</th>\n",
       "      <th>source</th>\n",
       "      <th>audience</th>\n",
       "      <th>created</th>\n",
       "      <th>creator</th>\n",
       "      <th>contributor</th>\n",
       "      <th>publisher</th>\n",
       "      <th>license</th>\n",
       "      <th>rightsHolder</th>\n",
       "    </tr>\n",
       "  </thead>\n",
       "  <tbody>\n",
       "    <tr>\n",
       "      <th>0</th>\n",
       "      <td>1572324720</td>\n",
       "      <td>Sound</td>\n",
       "      <td>audio/mpeg</td>\n",
       "      <td>http://www.tierstimmenarchiv.de/recordings/Cre...</td>\n",
       "      <td>http://www.tierstimmenarchiv.de/webinterface/c...</td>\n",
       "      <td>NaN</td>\n",
       "      <td>NaN</td>\n",
       "      <td>NaN</td>\n",
       "      <td>NaN</td>\n",
       "      <td>NaN</td>\n",
       "      <td>NaN</td>\n",
       "      <td>NaN</td>\n",
       "      <td>NaN</td>\n",
       "      <td>http://creativecommons.org/licenses/by-nc-sa/4.0/</td>\n",
       "      <td>NaN</td>\n",
       "    </tr>\n",
       "    <tr>\n",
       "      <th>1</th>\n",
       "      <td>1572324719</td>\n",
       "      <td>Sound</td>\n",
       "      <td>audio/mpeg</td>\n",
       "      <td>http://www.tierstimmenarchiv.de/recordings/Cre...</td>\n",
       "      <td>http://www.tierstimmenarchiv.de/webinterface/c...</td>\n",
       "      <td>NaN</td>\n",
       "      <td>NaN</td>\n",
       "      <td>NaN</td>\n",
       "      <td>NaN</td>\n",
       "      <td>NaN</td>\n",
       "      <td>NaN</td>\n",
       "      <td>NaN</td>\n",
       "      <td>NaN</td>\n",
       "      <td>http://creativecommons.org/licenses/by-nc-sa/4.0/</td>\n",
       "      <td>NaN</td>\n",
       "    </tr>\n",
       "    <tr>\n",
       "      <th>2</th>\n",
       "      <td>1572324718</td>\n",
       "      <td>Sound</td>\n",
       "      <td>audio/mpeg</td>\n",
       "      <td>http://www.tierstimmenarchiv.de/recordings/Cre...</td>\n",
       "      <td>http://www.tierstimmenarchiv.de/webinterface/c...</td>\n",
       "      <td>NaN</td>\n",
       "      <td>NaN</td>\n",
       "      <td>NaN</td>\n",
       "      <td>NaN</td>\n",
       "      <td>NaN</td>\n",
       "      <td>NaN</td>\n",
       "      <td>NaN</td>\n",
       "      <td>NaN</td>\n",
       "      <td>http://creativecommons.org/licenses/by-nc-sa/4.0/</td>\n",
       "      <td>NaN</td>\n",
       "    </tr>\n",
       "    <tr>\n",
       "      <th>3</th>\n",
       "      <td>1572324717</td>\n",
       "      <td>Sound</td>\n",
       "      <td>audio/mpeg</td>\n",
       "      <td>http://www.tierstimmenarchiv.de/recordings/Cre...</td>\n",
       "      <td>http://www.tierstimmenarchiv.de/webinterface/c...</td>\n",
       "      <td>NaN</td>\n",
       "      <td>NaN</td>\n",
       "      <td>NaN</td>\n",
       "      <td>NaN</td>\n",
       "      <td>NaN</td>\n",
       "      <td>NaN</td>\n",
       "      <td>NaN</td>\n",
       "      <td>NaN</td>\n",
       "      <td>http://creativecommons.org/licenses/by-nc-sa/4.0/</td>\n",
       "      <td>NaN</td>\n",
       "    </tr>\n",
       "    <tr>\n",
       "      <th>4</th>\n",
       "      <td>1572324716</td>\n",
       "      <td>Sound</td>\n",
       "      <td>audio/mpeg</td>\n",
       "      <td>http://www.tierstimmenarchiv.de/recordings/Cre...</td>\n",
       "      <td>http://www.tierstimmenarchiv.de/webinterface/c...</td>\n",
       "      <td>NaN</td>\n",
       "      <td>NaN</td>\n",
       "      <td>NaN</td>\n",
       "      <td>NaN</td>\n",
       "      <td>NaN</td>\n",
       "      <td>NaN</td>\n",
       "      <td>NaN</td>\n",
       "      <td>NaN</td>\n",
       "      <td>http://creativecommons.org/licenses/by-nc-sa/4.0/</td>\n",
       "      <td>NaN</td>\n",
       "    </tr>\n",
       "  </tbody>\n",
       "</table>\n",
       "</div>"
      ],
      "text/plain": [
       "       gbifID   type      format  \\\n",
       "0  1572324720  Sound  audio/mpeg   \n",
       "1  1572324719  Sound  audio/mpeg   \n",
       "2  1572324718  Sound  audio/mpeg   \n",
       "3  1572324717  Sound  audio/mpeg   \n",
       "4  1572324716  Sound  audio/mpeg   \n",
       "\n",
       "                                          identifier  \\\n",
       "0  http://www.tierstimmenarchiv.de/recordings/Cre...   \n",
       "1  http://www.tierstimmenarchiv.de/recordings/Cre...   \n",
       "2  http://www.tierstimmenarchiv.de/recordings/Cre...   \n",
       "3  http://www.tierstimmenarchiv.de/recordings/Cre...   \n",
       "4  http://www.tierstimmenarchiv.de/recordings/Cre...   \n",
       "\n",
       "                                          references  title  description  \\\n",
       "0  http://www.tierstimmenarchiv.de/webinterface/c...    NaN          NaN   \n",
       "1  http://www.tierstimmenarchiv.de/webinterface/c...    NaN          NaN   \n",
       "2  http://www.tierstimmenarchiv.de/webinterface/c...    NaN          NaN   \n",
       "3  http://www.tierstimmenarchiv.de/webinterface/c...    NaN          NaN   \n",
       "4  http://www.tierstimmenarchiv.de/webinterface/c...    NaN          NaN   \n",
       "\n",
       "   source  audience  created  creator  contributor  publisher  \\\n",
       "0     NaN       NaN      NaN      NaN          NaN        NaN   \n",
       "1     NaN       NaN      NaN      NaN          NaN        NaN   \n",
       "2     NaN       NaN      NaN      NaN          NaN        NaN   \n",
       "3     NaN       NaN      NaN      NaN          NaN        NaN   \n",
       "4     NaN       NaN      NaN      NaN          NaN        NaN   \n",
       "\n",
       "                                             license  rightsHolder  \n",
       "0  http://creativecommons.org/licenses/by-nc-sa/4.0/           NaN  \n",
       "1  http://creativecommons.org/licenses/by-nc-sa/4.0/           NaN  \n",
       "2  http://creativecommons.org/licenses/by-nc-sa/4.0/           NaN  \n",
       "3  http://creativecommons.org/licenses/by-nc-sa/4.0/           NaN  \n",
       "4  http://creativecommons.org/licenses/by-nc-sa/4.0/           NaN  "
      ]
     },
     "metadata": {},
     "execution_count": 4
    }
   ],
   "metadata": {}
  },
  {
   "cell_type": "markdown",
   "source": [
    "The `multimedia.txt` file has irrelevant columns. We only need the **gbifID** and **identifier** columns. "
   ],
   "metadata": {}
  },
  {
   "cell_type": "code",
   "execution_count": 5,
   "source": [
    "multimedia = multimedia[[\"gbifID\", \"identifier\"]]\r\n",
    "multimedia.head()"
   ],
   "outputs": [
    {
     "output_type": "execute_result",
     "data": {
      "text/html": [
       "<div>\n",
       "<style scoped>\n",
       "    .dataframe tbody tr th:only-of-type {\n",
       "        vertical-align: middle;\n",
       "    }\n",
       "\n",
       "    .dataframe tbody tr th {\n",
       "        vertical-align: top;\n",
       "    }\n",
       "\n",
       "    .dataframe thead th {\n",
       "        text-align: right;\n",
       "    }\n",
       "</style>\n",
       "<table border=\"1\" class=\"dataframe\">\n",
       "  <thead>\n",
       "    <tr style=\"text-align: right;\">\n",
       "      <th></th>\n",
       "      <th>gbifID</th>\n",
       "      <th>identifier</th>\n",
       "    </tr>\n",
       "  </thead>\n",
       "  <tbody>\n",
       "    <tr>\n",
       "      <th>0</th>\n",
       "      <td>1572324720</td>\n",
       "      <td>http://www.tierstimmenarchiv.de/recordings/Cre...</td>\n",
       "    </tr>\n",
       "    <tr>\n",
       "      <th>1</th>\n",
       "      <td>1572324719</td>\n",
       "      <td>http://www.tierstimmenarchiv.de/recordings/Cre...</td>\n",
       "    </tr>\n",
       "    <tr>\n",
       "      <th>2</th>\n",
       "      <td>1572324718</td>\n",
       "      <td>http://www.tierstimmenarchiv.de/recordings/Cre...</td>\n",
       "    </tr>\n",
       "    <tr>\n",
       "      <th>3</th>\n",
       "      <td>1572324717</td>\n",
       "      <td>http://www.tierstimmenarchiv.de/recordings/Cre...</td>\n",
       "    </tr>\n",
       "    <tr>\n",
       "      <th>4</th>\n",
       "      <td>1572324716</td>\n",
       "      <td>http://www.tierstimmenarchiv.de/recordings/Cre...</td>\n",
       "    </tr>\n",
       "  </tbody>\n",
       "</table>\n",
       "</div>"
      ],
      "text/plain": [
       "       gbifID                                         identifier\n",
       "0  1572324720  http://www.tierstimmenarchiv.de/recordings/Cre...\n",
       "1  1572324719  http://www.tierstimmenarchiv.de/recordings/Cre...\n",
       "2  1572324718  http://www.tierstimmenarchiv.de/recordings/Cre...\n",
       "3  1572324717  http://www.tierstimmenarchiv.de/recordings/Cre...\n",
       "4  1572324716  http://www.tierstimmenarchiv.de/recordings/Cre..."
      ]
     },
     "metadata": {},
     "execution_count": 5
    }
   ],
   "metadata": {}
  },
  {
   "cell_type": "markdown",
   "source": [
    "Now we have to combine the 2 datasets merging them by the **gbifID**."
   ],
   "metadata": {}
  },
  {
   "cell_type": "code",
   "execution_count": 6,
   "source": [
    "df = multimedia.merge(ocurrences, on=\"gbifID\", how=\"inner\")\r\n",
    "df.head()"
   ],
   "outputs": [
    {
     "output_type": "execute_result",
     "data": {
      "text/html": [
       "<div>\n",
       "<style scoped>\n",
       "    .dataframe tbody tr th:only-of-type {\n",
       "        vertical-align: middle;\n",
       "    }\n",
       "\n",
       "    .dataframe tbody tr th {\n",
       "        vertical-align: top;\n",
       "    }\n",
       "\n",
       "    .dataframe thead th {\n",
       "        text-align: right;\n",
       "    }\n",
       "</style>\n",
       "<table border=\"1\" class=\"dataframe\">\n",
       "  <thead>\n",
       "    <tr style=\"text-align: right;\">\n",
       "      <th></th>\n",
       "      <th>gbifID</th>\n",
       "      <th>identifier</th>\n",
       "      <th>species</th>\n",
       "      <th>genus</th>\n",
       "      <th>family</th>\n",
       "      <th>class</th>\n",
       "      <th>phylum</th>\n",
       "    </tr>\n",
       "  </thead>\n",
       "  <tbody>\n",
       "    <tr>\n",
       "      <th>0</th>\n",
       "      <td>1572324720</td>\n",
       "      <td>http://www.tierstimmenarchiv.de/recordings/Cre...</td>\n",
       "      <td>Crex crex</td>\n",
       "      <td>Crex</td>\n",
       "      <td>Rallidae</td>\n",
       "      <td>Aves</td>\n",
       "      <td>Chordata</td>\n",
       "    </tr>\n",
       "    <tr>\n",
       "      <th>1</th>\n",
       "      <td>1572324719</td>\n",
       "      <td>http://www.tierstimmenarchiv.de/recordings/Cre...</td>\n",
       "      <td>Crex crex</td>\n",
       "      <td>Crex</td>\n",
       "      <td>Rallidae</td>\n",
       "      <td>Aves</td>\n",
       "      <td>Chordata</td>\n",
       "    </tr>\n",
       "    <tr>\n",
       "      <th>2</th>\n",
       "      <td>1572324718</td>\n",
       "      <td>http://www.tierstimmenarchiv.de/recordings/Cre...</td>\n",
       "      <td>Crex crex</td>\n",
       "      <td>Crex</td>\n",
       "      <td>Rallidae</td>\n",
       "      <td>Aves</td>\n",
       "      <td>Chordata</td>\n",
       "    </tr>\n",
       "    <tr>\n",
       "      <th>3</th>\n",
       "      <td>1572324717</td>\n",
       "      <td>http://www.tierstimmenarchiv.de/recordings/Cre...</td>\n",
       "      <td>Crex crex</td>\n",
       "      <td>Crex</td>\n",
       "      <td>Rallidae</td>\n",
       "      <td>Aves</td>\n",
       "      <td>Chordata</td>\n",
       "    </tr>\n",
       "    <tr>\n",
       "      <th>4</th>\n",
       "      <td>1572324716</td>\n",
       "      <td>http://www.tierstimmenarchiv.de/recordings/Cre...</td>\n",
       "      <td>Crex crex</td>\n",
       "      <td>Crex</td>\n",
       "      <td>Rallidae</td>\n",
       "      <td>Aves</td>\n",
       "      <td>Chordata</td>\n",
       "    </tr>\n",
       "  </tbody>\n",
       "</table>\n",
       "</div>"
      ],
      "text/plain": [
       "       gbifID                                         identifier    species  \\\n",
       "0  1572324720  http://www.tierstimmenarchiv.de/recordings/Cre...  Crex crex   \n",
       "1  1572324719  http://www.tierstimmenarchiv.de/recordings/Cre...  Crex crex   \n",
       "2  1572324718  http://www.tierstimmenarchiv.de/recordings/Cre...  Crex crex   \n",
       "3  1572324717  http://www.tierstimmenarchiv.de/recordings/Cre...  Crex crex   \n",
       "4  1572324716  http://www.tierstimmenarchiv.de/recordings/Cre...  Crex crex   \n",
       "\n",
       "  genus    family class    phylum  \n",
       "0  Crex  Rallidae  Aves  Chordata  \n",
       "1  Crex  Rallidae  Aves  Chordata  \n",
       "2  Crex  Rallidae  Aves  Chordata  \n",
       "3  Crex  Rallidae  Aves  Chordata  \n",
       "4  Crex  Rallidae  Aves  Chordata  "
      ]
     },
     "metadata": {},
     "execution_count": 6
    }
   ],
   "metadata": {}
  },
  {
   "cell_type": "code",
   "execution_count": 7,
   "source": [
    "df.shape"
   ],
   "outputs": [
    {
     "output_type": "execute_result",
     "data": {
      "text/plain": [
       "(16385, 7)"
      ]
     },
     "metadata": {},
     "execution_count": 7
    }
   ],
   "metadata": {}
  },
  {
   "cell_type": "markdown",
   "source": [
    "The next step is to remove the samples with `NaN` in any column."
   ],
   "metadata": {}
  },
  {
   "cell_type": "code",
   "execution_count": 8,
   "source": [
    "df = df.dropna()\r\n",
    "df.shape"
   ],
   "outputs": [
    {
     "output_type": "execute_result",
     "data": {
      "text/plain": [
       "(16270, 7)"
      ]
     },
     "metadata": {},
     "execution_count": 8
    }
   ],
   "metadata": {}
  },
  {
   "cell_type": "markdown",
   "source": [
    "## Download the audios\n",
    "\n",
    "Now that we have all the links of the audios, we have to save them."
   ],
   "metadata": {}
  },
  {
   "cell_type": "code",
   "execution_count": 9,
   "source": [
    "tqdm.pandas(desc=\"Downloading files\")"
   ],
   "outputs": [],
   "metadata": {}
  },
  {
   "cell_type": "code",
   "execution_count": 10,
   "source": [
    "def createAudioFile(row):\r\n",
    "  ocurr_id = str(row[\"gbifID\"])\r\n",
    "  phylum = row[\"phylum\"]\r\n",
    "  class_name = row[\"class\"]\r\n",
    "  family = row[\"family\"]\r\n",
    "  genus = row[\"genus\"]\r\n",
    "  species = row[\"species\"]\r\n",
    "  url = row[\"identifier\"]\r\n",
    "  \r\n",
    "  folder = '{}/{}/{}/{}/{}/'.format(phylum, class_name, family, genus, species).replace(\" \", \"_\")\r\n",
    "  \r\n",
    "  file_name = folder + ocurr_id + \".mp3\"\r\n",
    "  folder_name = r\"../data/{}\".format(folder)\r\n",
    "\r\n",
    "  if not os.path.exists('../data/' + folder):\r\n",
    "    os.makedirs(folder_name, exist_ok=True)\r\n",
    "\r\n",
    "  path = r\"../data/{}\".format(file_name)\r\n",
    "    \r\n",
    "  if not os.path.exists(path):\r\n",
    "    with open(path, \"wb\") as f:\r\n",
    "      f.write(requests.get(url).content)\r\n",
    "    \r\n",
    "  return file_name\r\n",
    "\r\n",
    "df.head()"
   ],
   "outputs": [
    {
     "output_type": "execute_result",
     "data": {
      "text/html": [
       "<div>\n",
       "<style scoped>\n",
       "    .dataframe tbody tr th:only-of-type {\n",
       "        vertical-align: middle;\n",
       "    }\n",
       "\n",
       "    .dataframe tbody tr th {\n",
       "        vertical-align: top;\n",
       "    }\n",
       "\n",
       "    .dataframe thead th {\n",
       "        text-align: right;\n",
       "    }\n",
       "</style>\n",
       "<table border=\"1\" class=\"dataframe\">\n",
       "  <thead>\n",
       "    <tr style=\"text-align: right;\">\n",
       "      <th></th>\n",
       "      <th>gbifID</th>\n",
       "      <th>identifier</th>\n",
       "      <th>species</th>\n",
       "      <th>genus</th>\n",
       "      <th>family</th>\n",
       "      <th>class</th>\n",
       "      <th>phylum</th>\n",
       "    </tr>\n",
       "  </thead>\n",
       "  <tbody>\n",
       "    <tr>\n",
       "      <th>0</th>\n",
       "      <td>1572324720</td>\n",
       "      <td>http://www.tierstimmenarchiv.de/recordings/Cre...</td>\n",
       "      <td>Crex crex</td>\n",
       "      <td>Crex</td>\n",
       "      <td>Rallidae</td>\n",
       "      <td>Aves</td>\n",
       "      <td>Chordata</td>\n",
       "    </tr>\n",
       "    <tr>\n",
       "      <th>1</th>\n",
       "      <td>1572324719</td>\n",
       "      <td>http://www.tierstimmenarchiv.de/recordings/Cre...</td>\n",
       "      <td>Crex crex</td>\n",
       "      <td>Crex</td>\n",
       "      <td>Rallidae</td>\n",
       "      <td>Aves</td>\n",
       "      <td>Chordata</td>\n",
       "    </tr>\n",
       "    <tr>\n",
       "      <th>2</th>\n",
       "      <td>1572324718</td>\n",
       "      <td>http://www.tierstimmenarchiv.de/recordings/Cre...</td>\n",
       "      <td>Crex crex</td>\n",
       "      <td>Crex</td>\n",
       "      <td>Rallidae</td>\n",
       "      <td>Aves</td>\n",
       "      <td>Chordata</td>\n",
       "    </tr>\n",
       "    <tr>\n",
       "      <th>3</th>\n",
       "      <td>1572324717</td>\n",
       "      <td>http://www.tierstimmenarchiv.de/recordings/Cre...</td>\n",
       "      <td>Crex crex</td>\n",
       "      <td>Crex</td>\n",
       "      <td>Rallidae</td>\n",
       "      <td>Aves</td>\n",
       "      <td>Chordata</td>\n",
       "    </tr>\n",
       "    <tr>\n",
       "      <th>4</th>\n",
       "      <td>1572324716</td>\n",
       "      <td>http://www.tierstimmenarchiv.de/recordings/Cre...</td>\n",
       "      <td>Crex crex</td>\n",
       "      <td>Crex</td>\n",
       "      <td>Rallidae</td>\n",
       "      <td>Aves</td>\n",
       "      <td>Chordata</td>\n",
       "    </tr>\n",
       "  </tbody>\n",
       "</table>\n",
       "</div>"
      ],
      "text/plain": [
       "       gbifID                                         identifier    species  \\\n",
       "0  1572324720  http://www.tierstimmenarchiv.de/recordings/Cre...  Crex crex   \n",
       "1  1572324719  http://www.tierstimmenarchiv.de/recordings/Cre...  Crex crex   \n",
       "2  1572324718  http://www.tierstimmenarchiv.de/recordings/Cre...  Crex crex   \n",
       "3  1572324717  http://www.tierstimmenarchiv.de/recordings/Cre...  Crex crex   \n",
       "4  1572324716  http://www.tierstimmenarchiv.de/recordings/Cre...  Crex crex   \n",
       "\n",
       "  genus    family class    phylum  \n",
       "0  Crex  Rallidae  Aves  Chordata  \n",
       "1  Crex  Rallidae  Aves  Chordata  \n",
       "2  Crex  Rallidae  Aves  Chordata  \n",
       "3  Crex  Rallidae  Aves  Chordata  \n",
       "4  Crex  Rallidae  Aves  Chordata  "
      ]
     },
     "metadata": {},
     "execution_count": 10
    }
   ],
   "metadata": {}
  },
  {
   "cell_type": "code",
   "execution_count": 27,
   "source": [
    "# Creating dask dataframe\r\n",
    "ddf = dd.from_pandas(df, npartitions=16)\r\n",
    "\r\n",
    "# df[\"file_name\"] = df.progress_apply(createAudioFile, axis=1)\r\n",
    "res = ddf.map_partitions(lambda df: df.apply((lambda row: createAudioFile(row)), axis=1)).compute(scheduler=get)\r\n"
   ],
   "outputs": [
    {
     "output_type": "execute_result",
     "data": {
      "text/plain": [
       "Series([], dtype: object)"
      ]
     },
     "metadata": {},
     "execution_count": 27
    }
   ],
   "metadata": {}
  },
  {
   "cell_type": "markdown",
   "source": [
    "We have to remove corrupted data"
   ],
   "metadata": {}
  },
  {
   "cell_type": "code",
   "execution_count": 21,
   "source": [
    "tqdm.pandas(desc=\"Dropping corrupted files\")"
   ],
   "outputs": [],
   "metadata": {}
  },
  {
   "cell_type": "code",
   "execution_count": 22,
   "source": [
    "def isCorrupted(row):\r\n",
    "  try:\r\n",
    "    with warnings.catch_warnings():\r\n",
    "      warnings.simplefilter(\"ignore\")\r\n",
    "      torchaudio.load(\"../data/\" + row.file_name)\r\n",
    "      return False\r\n",
    "  except:\r\n",
    "    return True"
   ],
   "outputs": [],
   "metadata": {}
  },
  {
   "cell_type": "code",
   "execution_count": 23,
   "source": [
    "df[\"is_corrupted\"] = df.progress_apply(isCorrupted, axis=1)"
   ],
   "outputs": [
    {
     "output_type": "display_data",
     "data": {
      "application/vnd.jupyter.widget-view+json": {
       "version_major": 2,
       "version_minor": 0,
       "model_id": "10970658f7df450e8f44e336e707d97d"
      },
      "text/plain": [
       "Dropping corrupted files: 0it [00:00, ?it/s]"
      ]
     },
     "metadata": {}
    }
   ],
   "metadata": {}
  },
  {
   "cell_type": "code",
   "execution_count": 24,
   "source": [
    "df.head(10)"
   ],
   "outputs": [
    {
     "output_type": "execute_result",
     "data": {
      "text/html": [
       "<div>\n",
       "<style scoped>\n",
       "    .dataframe tbody tr th:only-of-type {\n",
       "        vertical-align: middle;\n",
       "    }\n",
       "\n",
       "    .dataframe tbody tr th {\n",
       "        vertical-align: top;\n",
       "    }\n",
       "\n",
       "    .dataframe thead th {\n",
       "        text-align: right;\n",
       "    }\n",
       "</style>\n",
       "<table border=\"1\" class=\"dataframe\">\n",
       "  <thead>\n",
       "    <tr style=\"text-align: right;\">\n",
       "      <th></th>\n",
       "      <th>gbifID</th>\n",
       "      <th>identifier</th>\n",
       "      <th>species</th>\n",
       "      <th>genus</th>\n",
       "      <th>family</th>\n",
       "      <th>class</th>\n",
       "      <th>phylum</th>\n",
       "      <th>is_corrupted</th>\n",
       "    </tr>\n",
       "  </thead>\n",
       "  <tbody>\n",
       "  </tbody>\n",
       "</table>\n",
       "</div>"
      ],
      "text/plain": [
       "Empty DataFrame\n",
       "Columns: [gbifID, identifier, species, genus, family, class, phylum, is_corrupted]\n",
       "Index: []"
      ]
     },
     "metadata": {},
     "execution_count": 24
    }
   ],
   "metadata": {}
  },
  {
   "cell_type": "code",
   "execution_count": 16,
   "source": [
    "df = df.drop(df[df.is_corrupted].index).drop(columns=\"is_corrupted\")"
   ],
   "outputs": [],
   "metadata": {}
  },
  {
   "cell_type": "code",
   "execution_count": 17,
   "source": [
    "df.shape"
   ],
   "outputs": [
    {
     "output_type": "execute_result",
     "data": {
      "text/plain": [
       "(0, 7)"
      ]
     },
     "metadata": {},
     "execution_count": 17
    }
   ],
   "metadata": {}
  },
  {
   "cell_type": "markdown",
   "source": [
    "Finaly, we save the file"
   ],
   "metadata": {}
  },
  {
   "cell_type": "code",
   "execution_count": 18,
   "source": [
    "df = df.reset_index(drop=True)"
   ],
   "outputs": [],
   "metadata": {}
  },
  {
   "cell_type": "code",
   "execution_count": 19,
   "source": [
    "df.to_csv(\"../datasets/AnimalSoundFull.csv\", index=False)"
   ],
   "outputs": [],
   "metadata": {}
  },
  {
   "cell_type": "code",
   "execution_count": 20,
   "source": [],
   "outputs": [
    {
     "output_type": "execute_result",
     "data": {
      "text/html": [
       "<div>\n",
       "<style scoped>\n",
       "    .dataframe tbody tr th:only-of-type {\n",
       "        vertical-align: middle;\n",
       "    }\n",
       "\n",
       "    .dataframe tbody tr th {\n",
       "        vertical-align: top;\n",
       "    }\n",
       "\n",
       "    .dataframe thead th {\n",
       "        text-align: right;\n",
       "    }\n",
       "</style>\n",
       "<table border=\"1\" class=\"dataframe\">\n",
       "  <thead>\n",
       "    <tr style=\"text-align: right;\">\n",
       "      <th></th>\n",
       "      <th>gbifID</th>\n",
       "      <th>identifier</th>\n",
       "      <th>species</th>\n",
       "      <th>genus</th>\n",
       "      <th>family</th>\n",
       "      <th>class</th>\n",
       "      <th>phylum</th>\n",
       "    </tr>\n",
       "  </thead>\n",
       "  <tbody>\n",
       "  </tbody>\n",
       "</table>\n",
       "</div>"
      ],
      "text/plain": [
       "Empty DataFrame\n",
       "Columns: [gbifID, identifier, species, genus, family, class, phylum]\n",
       "Index: []"
      ]
     },
     "metadata": {},
     "execution_count": 20
    }
   ],
   "metadata": {}
  }
 ],
 "metadata": {
  "kernelspec": {
   "name": "python3",
   "display_name": "Python 3.9.7 64-bit ('venv': venv)"
  },
  "language_info": {
   "codemirror_mode": {
    "name": "ipython",
    "version": 3
   },
   "file_extension": ".py",
   "mimetype": "text/x-python",
   "name": "python",
   "nbconvert_exporter": "python",
   "pygments_lexer": "ipython3",
   "version": "3.9.7"
  },
  "interpreter": {
   "hash": "05ec5b253bfbbd0f3665b561f42f8ff4c11567d04d42cfb2c6dadb81cf478878"
  }
 },
 "nbformat": 4,
 "nbformat_minor": 5
}