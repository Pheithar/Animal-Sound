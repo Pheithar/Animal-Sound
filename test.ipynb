{
 "cells": [
  {
   "cell_type": "markdown",
   "id": "945e4b98",
   "metadata": {},
   "source": [
    "# Just testing some stuff"
   ]
  },
  {
   "cell_type": "code",
   "execution_count": 10,
   "id": "3deb2d86",
   "metadata": {},
   "outputs": [],
   "source": [
    "import librosa\n",
    "import librosa.display\n",
    "\n",
    "import pandas as pd\n",
    "\n",
    "import numpy as np\n",
    "\n",
    "import requests"
   ]
  },
  {
   "cell_type": "code",
   "execution_count": 29,
   "id": "ac441fd1",
   "metadata": {},
   "outputs": [],
   "source": [
    "r = requests.get(pd.read_csv(\"animal-sound/multimedia.txt\", delimiter=\"\\t\").identifier.values[200])\n",
    "with open(\"test.mp3\", \"wb\") as f:\n",
    "  f.write(r.content)"
   ]
  },
  {
   "cell_type": "code",
   "execution_count": 30,
   "id": "4c5c11e2",
   "metadata": {},
   "outputs": [
    {
     "name": "stderr",
     "output_type": "stream",
     "text": [
      "/home/pheithar/.local/lib/python3.9/site-packages/librosa/core/audio.py:165: UserWarning: PySoundFile failed. Trying audioread instead.\n",
      "  warnings.warn(\"PySoundFile failed. Trying audioread instead.\")\n"
     ]
    },
    {
     "data": {
      "text/plain": [
       "(array([0., 0., 0., ..., 0., 0., 0.], dtype=float32), 22050)"
      ]
     },
     "execution_count": 30,
     "metadata": {},
     "output_type": "execute_result"
    }
   ],
   "source": [
    "audio = librosa.load(\"test.mp3\")\n",
    "audio"
   ]
  },
  {
   "cell_type": "code",
   "execution_count": 31,
   "id": "c74805a7",
   "metadata": {},
   "outputs": [
    {
     "data": {
      "text/plain": [
       "<matplotlib.collections.QuadMesh at 0x7f73e611c340>"
      ]
     },
     "execution_count": 31,
     "metadata": {},
     "output_type": "execute_result"
    },
    {
     "data": {
      "image/png": "[encoded data removed]",
      "text/plain": [
       "<Figure size 432x288 with 1 Axes>"
      ]
     },
     "metadata": {
      "needs_background": "light"
     },
     "output_type": "display_data"
    }
   ],
   "source": [
    "spect = librosa.feature.melspectrogram(audio[0])\n",
    "librosa.display.specshow(spect, y_axis=\"mel\", x_axis=\"time\")"
   ]
  },
  {
   "cell_type": "code",
   "execution_count": 41,
   "id": "9cf8a37c",
   "metadata": {},
   "outputs": [
    {
     "data": {
      "text/plain": [
       "array([[6.3541702e-06, 2.0152216e-03, 8.4239274e-02, ..., 5.1820725e-03,\n",
       "        4.6672183e-04, 5.7038960e-06],\n",
       "       [7.3474293e-06, 1.3159208e-03, 1.3260247e-01, ..., 1.2575893e-02,\n",
       "        3.9471633e-04, 1.6879028e-05],\n",
       "       [1.3308667e-05, 1.3761852e-03, 9.9487402e-02, ..., 3.7209511e-02,\n",
       "        1.6674132e-03, 9.1267211e-06],\n",
       "       ...,\n",
       "       [7.4723786e-08, 1.9033207e-06, 1.5209220e-05, ..., 3.1174073e-05,\n",
       "        1.7723324e-06, 1.9867048e-08],\n",
       "       [2.2393612e-08, 7.4944523e-07, 6.3128550e-06, ..., 7.2486500e-06,\n",
       "        7.9406044e-07, 3.0970106e-09],\n",
       "       [2.5298068e-09, 7.8672230e-08, 8.4809426e-07, ..., 6.9495053e-07,\n",
       "        4.2834909e-08, 2.9827540e-10]], dtype=float32)"
      ]
     },
     "execution_count": 41,
     "metadata": {},
     "output_type": "execute_result"
    }
   ],
   "source": [
    "spect"
   ]
  },
  {
   "cell_type": "code",
   "execution_count": 38,
   "id": "81380202",
   "metadata": {},
   "outputs": [
    {
     "data": {
      "text/plain": [
       "<matplotlib.collections.PolyCollection at 0x7f73cc7de820>"
      ]
     },
     "execution_count": 38,
     "metadata": {},
     "output_type": "execute_result"
    },
    {
     "data": {
      "image/png": "[encoded data removed]",
      "text/plain": [
       "<Figure size 432x288 with 1 Axes>"
      ]
     },
     "metadata": {
      "needs_background": "light"
     },
     "output_type": "display_data"
    }
   ],
   "source": [
    "librosa.display.waveplot(audio[0])"
   ]
  },
  {
   "cell_type": "code",
   "execution_count": 44,
   "id": "ad427596",
   "metadata": {},
   "outputs": [
    {
     "data": {
      "text/plain": [
       "['gbifID',\n",
       " 'abstract',\n",
       " 'accessRights',\n",
       " 'accrualMethod',\n",
       " 'accrualPeriodicity',\n",
       " 'accrualPolicy',\n",
       " 'alternative',\n",
       " 'audience',\n",
       " 'available',\n",
       " 'bibliographicCitation',\n",
       " 'conformsTo',\n",
       " 'contributor',\n",
       " 'coverage',\n",
       " 'created',\n",
       " 'creator',\n",
       " 'date',\n",
       " 'dateAccepted',\n",
       " 'dateCopyrighted',\n",
       " 'dateSubmitted',\n",
       " 'description',\n",
       " 'educationLevel',\n",
       " 'extent',\n",
       " 'format',\n",
       " 'hasFormat',\n",
       " 'hasPart',\n",
       " 'hasVersion',\n",
       " 'identifier',\n",
       " 'instructionalMethod',\n",
       " 'isFormatOf',\n",
       " 'isPartOf',\n",
       " 'isReferencedBy',\n",
       " 'isReplacedBy',\n",
       " 'isRequiredBy',\n",
       " 'isVersionOf',\n",
       " 'issued',\n",
       " 'language',\n",
       " 'license',\n",
       " 'mediator',\n",
       " 'medium',\n",
       " 'modified',\n",
       " 'provenance',\n",
       " 'publisher',\n",
       " 'references',\n",
       " 'relation',\n",
       " 'replaces',\n",
       " 'requires',\n",
       " 'rights',\n",
       " 'rightsHolder',\n",
       " 'source',\n",
       " 'spatial',\n",
       " 'subject',\n",
       " 'tableOfContents',\n",
       " 'temporal',\n",
       " 'title',\n",
       " 'type',\n",
       " 'valid',\n",
       " 'institutionID',\n",
       " 'collectionID',\n",
       " 'datasetID',\n",
       " 'institutionCode',\n",
       " 'collectionCode',\n",
       " 'datasetName',\n",
       " 'ownerInstitutionCode',\n",
       " 'basisOfRecord',\n",
       " 'informationWithheld',\n",
       " 'dataGeneralizations',\n",
       " 'dynamicProperties',\n",
       " 'occurrenceID',\n",
       " 'catalogNumber',\n",
       " 'recordNumber',\n",
       " 'recordedBy',\n",
       " 'individualCount',\n",
       " 'organismQuantity',\n",
       " 'organismQuantityType',\n",
       " 'sex',\n",
       " 'lifeStage',\n",
       " 'reproductiveCondition',\n",
       " 'behavior',\n",
       " 'establishmentMeans',\n",
       " 'occurrenceStatus',\n",
       " 'preparations',\n",
       " 'disposition',\n",
       " 'associatedReferences',\n",
       " 'associatedSequences',\n",
       " 'associatedTaxa',\n",
       " 'otherCatalogNumbers',\n",
       " 'occurrenceRemarks',\n",
       " 'organismID',\n",
       " 'organismName',\n",
       " 'organismScope',\n",
       " 'associatedOccurrences',\n",
       " 'associatedOrganisms',\n",
       " 'previousIdentifications',\n",
       " 'organismRemarks',\n",
       " 'materialSampleID',\n",
       " 'eventID',\n",
       " 'parentEventID',\n",
       " 'fieldNumber',\n",
       " 'eventDate',\n",
       " 'eventTime',\n",
       " 'startDayOfYear',\n",
       " 'endDayOfYear',\n",
       " 'year',\n",
       " 'month',\n",
       " 'day',\n",
       " 'verbatimEventDate',\n",
       " 'habitat',\n",
       " 'samplingProtocol',\n",
       " 'samplingEffort',\n",
       " 'sampleSizeValue',\n",
       " 'sampleSizeUnit',\n",
       " 'fieldNotes',\n",
       " 'eventRemarks',\n",
       " 'locationID',\n",
       " 'higherGeographyID',\n",
       " 'higherGeography',\n",
       " 'continent',\n",
       " 'waterBody',\n",
       " 'islandGroup',\n",
       " 'island',\n",
       " 'countryCode',\n",
       " 'stateProvince',\n",
       " 'county',\n",
       " 'municipality',\n",
       " 'locality',\n",
       " 'verbatimLocality',\n",
       " 'verbatimElevation',\n",
       " 'verbatimDepth',\n",
       " 'minimumDistanceAboveSurfaceInMeters',\n",
       " 'maximumDistanceAboveSurfaceInMeters',\n",
       " 'locationAccordingTo',\n",
       " 'locationRemarks',\n",
       " 'decimalLatitude',\n",
       " 'decimalLongitude',\n",
       " 'coordinateUncertaintyInMeters',\n",
       " 'coordinatePrecision',\n",
       " 'pointRadiusSpatialFit',\n",
       " 'verbatimCoordinateSystem',\n",
       " 'verbatimSRS',\n",
       " 'footprintWKT',\n",
       " 'footprintSRS',\n",
       " 'footprintSpatialFit',\n",
       " 'georeferencedBy',\n",
       " 'georeferencedDate',\n",
       " 'georeferenceProtocol',\n",
       " 'georeferenceSources',\n",
       " 'georeferenceVerificationStatus',\n",
       " 'georeferenceRemarks',\n",
       " 'geologicalContextID',\n",
       " 'earliestEonOrLowestEonothem',\n",
       " 'latestEonOrHighestEonothem',\n",
       " 'earliestEraOrLowestErathem',\n",
       " 'latestEraOrHighestErathem',\n",
       " 'earliestPeriodOrLowestSystem',\n",
       " 'latestPeriodOrHighestSystem',\n",
       " 'earliestEpochOrLowestSeries',\n",
       " 'latestEpochOrHighestSeries',\n",
       " 'earliestAgeOrLowestStage',\n",
       " 'latestAgeOrHighestStage',\n",
       " 'lowestBiostratigraphicZone',\n",
       " 'highestBiostratigraphicZone',\n",
       " 'lithostratigraphicTerms',\n",
       " 'group',\n",
       " 'formation',\n",
       " 'member',\n",
       " 'bed',\n",
       " 'identificationID',\n",
       " 'identificationQualifier',\n",
       " 'typeStatus',\n",
       " 'identifiedBy',\n",
       " 'dateIdentified',\n",
       " 'identificationReferences',\n",
       " 'identificationVerificationStatus',\n",
       " 'identificationRemarks',\n",
       " 'taxonID',\n",
       " 'scientificNameID',\n",
       " 'acceptedNameUsageID',\n",
       " 'parentNameUsageID',\n",
       " 'originalNameUsageID',\n",
       " 'nameAccordingToID',\n",
       " 'namePublishedInID',\n",
       " 'taxonConceptID',\n",
       " 'scientificName',\n",
       " 'acceptedNameUsage',\n",
       " 'parentNameUsage',\n",
       " 'originalNameUsage',\n",
       " 'nameAccordingTo',\n",
       " 'namePublishedIn',\n",
       " 'namePublishedInYear',\n",
       " 'higherClassification',\n",
       " 'kingdom',\n",
       " 'phylum',\n",
       " 'class',\n",
       " 'order',\n",
       " 'family',\n",
       " 'genus',\n",
       " 'subgenus',\n",
       " 'specificEpithet',\n",
       " 'infraspecificEpithet',\n",
       " 'taxonRank',\n",
       " 'verbatimTaxonRank',\n",
       " 'vernacularName',\n",
       " 'nomenclaturalCode',\n",
       " 'taxonomicStatus',\n",
       " 'nomenclaturalStatus',\n",
       " 'taxonRemarks',\n",
       " 'datasetKey',\n",
       " 'publishingCountry',\n",
       " 'lastInterpreted',\n",
       " 'elevation',\n",
       " 'elevationAccuracy',\n",
       " 'depth',\n",
       " 'depthAccuracy',\n",
       " 'distanceAboveSurface',\n",
       " 'distanceAboveSurfaceAccuracy',\n",
       " 'issue',\n",
       " 'mediaType',\n",
       " 'hasCoordinate',\n",
       " 'hasGeospatialIssues',\n",
       " 'taxonKey',\n",
       " 'acceptedTaxonKey',\n",
       " 'kingdomKey',\n",
       " 'phylumKey',\n",
       " 'classKey',\n",
       " 'orderKey',\n",
       " 'familyKey',\n",
       " 'genusKey',\n",
       " 'subgenusKey',\n",
       " 'speciesKey',\n",
       " 'species',\n",
       " 'genericName',\n",
       " 'acceptedScientificName',\n",
       " 'verbatimScientificName',\n",
       " 'typifiedName',\n",
       " 'protocol',\n",
       " 'lastParsed',\n",
       " 'lastCrawled',\n",
       " 'repatriated',\n",
       " 'relativeOrganismQuantity',\n",
       " 'recordedByID',\n",
       " 'identifiedByID',\n",
       " 'level0Gid',\n",
       " 'level0Name',\n",
       " 'level1Gid',\n",
       " 'level1Name',\n",
       " 'level2Gid',\n",
       " 'level2Name',\n",
       " 'level3Gid',\n",
       " 'level3Name',\n",
       " 'iucnRedListCategory']"
      ]
     },
     "execution_count": 44,
     "metadata": {},
     "output_type": "execute_result"
    }
   ],
   "source": [
    "list(pd.read_csv(\"animal-sound/occurrence.txt\", delimiter=\"\\t\").columns)"
   ]
  },
  {
   "cell_type": "code",
   "execution_count": 62,
   "id": "eab3f75d",
   "metadata": {},
   "outputs": [
    {
     "data": {
      "text/plain": [
       "0        1572324720\n",
       "1        1572324719\n",
       "2        1572324718\n",
       "3        1572324717\n",
       "4        1572324716\n",
       "            ...    \n",
       "34253     779844260\n",
       "34254     779844259\n",
       "34255     779844258\n",
       "34256     779844257\n",
       "34257     779844256\n",
       "Name: gbifID, Length: 34258, dtype: int64"
      ]
     },
     "execution_count": 62,
     "metadata": {},
     "output_type": "execute_result"
    }
   ],
   "source": [
    "pd.read_csv(\"animal-sound/occurrence.txt\", delimiter=\"\\t\").gbifID"
   ]
  },
  {
   "cell_type": "code",
   "execution_count": 67,
   "id": "44526c0f",
   "metadata": {},
   "outputs": [
    {
     "data": {
      "text/plain": [
       "True"
      ]
     },
     "execution_count": 67,
     "metadata": {},
     "output_type": "execute_result"
    }
   ],
   "source": [
    "pd.read_csv(\"animal-sound/occurrence.txt\", delimiter=\"\\t\").species"
   ]
  },
  {
   "cell_type": "code",
   "execution_count": 66,
   "id": "bbb8e2df",
   "metadata": {},
   "outputs": [
    {
     "data": {
      "text/plain": [
       "0             Crex\n",
       "1             Crex\n",
       "2             Crex\n",
       "3             Crex\n",
       "4             Crex\n",
       "           ...    \n",
       "34253    Accipiter\n",
       "34254    Accipiter\n",
       "34255    Accipiter\n",
       "34256    Accipiter\n",
       "34257    Accipiter\n",
       "Name: genus, Length: 34258, dtype: object"
      ]
     },
     "execution_count": 66,
     "metadata": {},
     "output_type": "execute_result"
    }
   ],
   "source": [
    "pd.read_csv(\"animal-sound/occurrence.txt\", delimiter=\"\\t\").genus"
   ]
  },
  {
   "cell_type": "code",
   "execution_count": 64,
   "id": "522f0241",
   "metadata": {},
   "outputs": [
    {
     "data": {
      "text/plain": [
       "0            Rallidae\n",
       "1            Rallidae\n",
       "2            Rallidae\n",
       "3            Rallidae\n",
       "4            Rallidae\n",
       "             ...     \n",
       "34253    Accipitridae\n",
       "34254    Accipitridae\n",
       "34255    Accipitridae\n",
       "34256    Accipitridae\n",
       "34257    Accipitridae\n",
       "Name: family, Length: 34258, dtype: object"
      ]
     },
     "execution_count": 64,
     "metadata": {},
     "output_type": "execute_result"
    }
   ],
   "source": [
    "pd.read_csv(\"animal-sound/occurrence.txt\", delimiter=\"\\t\").family"
   ]
  },
  {
   "cell_type": "code",
   "execution_count": 68,
   "id": "3a89d15f",
   "metadata": {},
   "outputs": [
    {
     "data": {
      "text/plain": [
       "0             Gruiformes\n",
       "1             Gruiformes\n",
       "2             Gruiformes\n",
       "3             Gruiformes\n",
       "4             Gruiformes\n",
       "              ...       \n",
       "34253    Accipitriformes\n",
       "34254    Accipitriformes\n",
       "34255    Accipitriformes\n",
       "34256    Accipitriformes\n",
       "34257    Accipitriformes\n",
       "Name: order, Length: 34258, dtype: object"
      ]
     },
     "execution_count": 68,
     "metadata": {},
     "output_type": "execute_result"
    }
   ],
   "source": [
    "pd.read_csv(\"animal-sound/occurrence.txt\", delimiter=\"\\t\").order"
   ]
  },
  {
   "cell_type": "code",
   "execution_count": 73,
   "id": "e0a6fcac",
   "metadata": {},
   "outputs": [
    {
     "data": {
      "text/plain": [
       "0        Aves\n",
       "1        Aves\n",
       "2        Aves\n",
       "3        Aves\n",
       "4        Aves\n",
       "         ... \n",
       "34253    Aves\n",
       "34254    Aves\n",
       "34255    Aves\n",
       "34256    Aves\n",
       "34257    Aves\n",
       "Name: class, Length: 34258, dtype: object"
      ]
     },
     "execution_count": 73,
     "metadata": {},
     "output_type": "execute_result"
    }
   ],
   "source": [
    "pd.read_csv(\"animal-sound/occurrence.txt\", delimiter=\"\\t\")[\"class\"]"
   ]
  },
  {
   "cell_type": "code",
   "execution_count": 75,
   "id": "40288b17",
   "metadata": {},
   "outputs": [
    {
     "data": {
      "text/plain": [
       "0        1572324720\n",
       "1        1572324719\n",
       "2        1572324718\n",
       "3        1572324717\n",
       "4        1572324716\n",
       "            ...    \n",
       "16380     779844260\n",
       "16381     779844259\n",
       "16382     779844258\n",
       "16383     779844257\n",
       "16384     779844256\n",
       "Name: gbifID, Length: 16385, dtype: int64"
      ]
     },
     "execution_count": 75,
     "metadata": {},
     "output_type": "execute_result"
    }
   ],
   "source": [
    "pd.read_csv(\"animal-sound/multimedia.txt\", delimiter=\"\\t\").gbifID"
   ]
  },
  {
   "cell_type": "code",
   "execution_count": 93,
   "id": "7b08c698",
   "metadata": {},
   "outputs": [
    {
     "data": {
      "text/html": [
       "<div>\n",
       "<style scoped>\n",
       "    .dataframe tbody tr th:only-of-type {\n",
       "        vertical-align: middle;\n",
       "    }\n",
       "\n",
       "    .dataframe tbody tr th {\n",
       "        vertical-align: top;\n",
       "    }\n",
       "\n",
       "    .dataframe thead th {\n",
       "        text-align: right;\n",
       "    }\n",
       "</style>\n",
       "<table border=\"1\" class=\"dataframe\">\n",
       "  <thead>\n",
       "    <tr style=\"text-align: right;\">\n",
       "      <th></th>\n",
       "      <th>gbifID</th>\n",
       "      <th>identifier</th>\n",
       "      <th>species</th>\n",
       "    </tr>\n",
       "  </thead>\n",
       "  <tbody>\n",
       "    <tr>\n",
       "      <th>0</th>\n",
       "      <td>1572324720</td>\n",
       "      <td>http://www.tierstimmenarchiv.de/recordings/Cre...</td>\n",
       "      <td>Crex crex</td>\n",
       "    </tr>\n",
       "    <tr>\n",
       "      <th>1</th>\n",
       "      <td>1572324719</td>\n",
       "      <td>http://www.tierstimmenarchiv.de/recordings/Cre...</td>\n",
       "      <td>Crex crex</td>\n",
       "    </tr>\n",
       "    <tr>\n",
       "      <th>2</th>\n",
       "      <td>1572324718</td>\n",
       "      <td>http://www.tierstimmenarchiv.de/recordings/Cre...</td>\n",
       "      <td>Crex crex</td>\n",
       "    </tr>\n",
       "    <tr>\n",
       "      <th>3</th>\n",
       "      <td>1572324717</td>\n",
       "      <td>http://www.tierstimmenarchiv.de/recordings/Cre...</td>\n",
       "      <td>Crex crex</td>\n",
       "    </tr>\n",
       "    <tr>\n",
       "      <th>4</th>\n",
       "      <td>1572324716</td>\n",
       "      <td>http://www.tierstimmenarchiv.de/recordings/Cre...</td>\n",
       "      <td>Crex crex</td>\n",
       "    </tr>\n",
       "    <tr>\n",
       "      <th>...</th>\n",
       "      <td>...</td>\n",
       "      <td>...</td>\n",
       "      <td>...</td>\n",
       "    </tr>\n",
       "    <tr>\n",
       "      <th>16380</th>\n",
       "      <td>779844260</td>\n",
       "      <td>http://www.tierstimmenarchiv.de/recordings/Acc...</td>\n",
       "      <td>Accipiter gentilis</td>\n",
       "    </tr>\n",
       "    <tr>\n",
       "      <th>16381</th>\n",
       "      <td>779844259</td>\n",
       "      <td>http://www.tierstimmenarchiv.de/recordings/Acc...</td>\n",
       "      <td>Accipiter gentilis</td>\n",
       "    </tr>\n",
       "    <tr>\n",
       "      <th>16382</th>\n",
       "      <td>779844258</td>\n",
       "      <td>http://www.tierstimmenarchiv.de/recordings/Acc...</td>\n",
       "      <td>Accipiter gentilis</td>\n",
       "    </tr>\n",
       "    <tr>\n",
       "      <th>16383</th>\n",
       "      <td>779844257</td>\n",
       "      <td>http://www.tierstimmenarchiv.de/recordings/Acc...</td>\n",
       "      <td>Accipiter nisus</td>\n",
       "    </tr>\n",
       "    <tr>\n",
       "      <th>16384</th>\n",
       "      <td>779844256</td>\n",
       "      <td>http://www.tierstimmenarchiv.de/recordings/Acc...</td>\n",
       "      <td>Accipiter gentilis</td>\n",
       "    </tr>\n",
       "  </tbody>\n",
       "</table>\n",
       "<p>16385 rows × 3 columns</p>\n",
       "</div>"
      ],
      "text/plain": [
       "           gbifID                                         identifier  \\\n",
       "0      1572324720  http://www.tierstimmenarchiv.de/recordings/Cre...   \n",
       "1      1572324719  http://www.tierstimmenarchiv.de/recordings/Cre...   \n",
       "2      1572324718  http://www.tierstimmenarchiv.de/recordings/Cre...   \n",
       "3      1572324717  http://www.tierstimmenarchiv.de/recordings/Cre...   \n",
       "4      1572324716  http://www.tierstimmenarchiv.de/recordings/Cre...   \n",
       "...           ...                                                ...   \n",
       "16380   779844260  http://www.tierstimmenarchiv.de/recordings/Acc...   \n",
       "16381   779844259  http://www.tierstimmenarchiv.de/recordings/Acc...   \n",
       "16382   779844258  http://www.tierstimmenarchiv.de/recordings/Acc...   \n",
       "16383   779844257  http://www.tierstimmenarchiv.de/recordings/Acc...   \n",
       "16384   779844256  http://www.tierstimmenarchiv.de/recordings/Acc...   \n",
       "\n",
       "                  species  \n",
       "0               Crex crex  \n",
       "1               Crex crex  \n",
       "2               Crex crex  \n",
       "3               Crex crex  \n",
       "4               Crex crex  \n",
       "...                   ...  \n",
       "16380  Accipiter gentilis  \n",
       "16381  Accipiter gentilis  \n",
       "16382  Accipiter gentilis  \n",
       "16383     Accipiter nisus  \n",
       "16384  Accipiter gentilis  \n",
       "\n",
       "[16385 rows x 3 columns]"
      ]
     },
     "execution_count": 93,
     "metadata": {},
     "output_type": "execute_result"
    }
   ],
   "source": [
    "multi = pd.read_csv(\"animal-sound/multimedia.txt\", delimiter=\"\\t\")[[\"gbifID\", \"identifier\"]]\n",
    "occur = pd.read_csv(\"animal-sound/occurrence.txt\", delimiter=\"\\t\")[[\"gbifID\", \"species\"]]\n",
    "\n",
    "multi.merge(occur, on=\"gbifID\", how=\"inner\")"
   ]
  },
  {
   "cell_type": "code",
   "execution_count": 89,
   "id": "002b5f5c",
   "metadata": {},
   "outputs": [
    {
     "data": {
      "text/html": [
       "<div>\n",
       "<style scoped>\n",
       "    .dataframe tbody tr th:only-of-type {\n",
       "        vertical-align: middle;\n",
       "    }\n",
       "\n",
       "    .dataframe tbody tr th {\n",
       "        vertical-align: top;\n",
       "    }\n",
       "\n",
       "    .dataframe thead th {\n",
       "        text-align: right;\n",
       "    }\n",
       "</style>\n",
       "<table border=\"1\" class=\"dataframe\">\n",
       "  <thead>\n",
       "    <tr style=\"text-align: right;\">\n",
       "      <th></th>\n",
       "      <th>gbifID</th>\n",
       "      <th>identifier</th>\n",
       "    </tr>\n",
       "  </thead>\n",
       "  <tbody>\n",
       "    <tr>\n",
       "      <th>0</th>\n",
       "      <td>1572324720</td>\n",
       "      <td>http://www.tierstimmenarchiv.de/recordings/Cre...</td>\n",
       "    </tr>\n",
       "    <tr>\n",
       "      <th>1</th>\n",
       "      <td>1572324719</td>\n",
       "      <td>http://www.tierstimmenarchiv.de/recordings/Cre...</td>\n",
       "    </tr>\n",
       "    <tr>\n",
       "      <th>2</th>\n",
       "      <td>1572324718</td>\n",
       "      <td>http://www.tierstimmenarchiv.de/recordings/Cre...</td>\n",
       "    </tr>\n",
       "    <tr>\n",
       "      <th>3</th>\n",
       "      <td>1572324717</td>\n",
       "      <td>http://www.tierstimmenarchiv.de/recordings/Cre...</td>\n",
       "    </tr>\n",
       "    <tr>\n",
       "      <th>4</th>\n",
       "      <td>1572324716</td>\n",
       "      <td>http://www.tierstimmenarchiv.de/recordings/Cre...</td>\n",
       "    </tr>\n",
       "    <tr>\n",
       "      <th>...</th>\n",
       "      <td>...</td>\n",
       "      <td>...</td>\n",
       "    </tr>\n",
       "    <tr>\n",
       "      <th>16380</th>\n",
       "      <td>779844260</td>\n",
       "      <td>http://www.tierstimmenarchiv.de/recordings/Acc...</td>\n",
       "    </tr>\n",
       "    <tr>\n",
       "      <th>16381</th>\n",
       "      <td>779844259</td>\n",
       "      <td>http://www.tierstimmenarchiv.de/recordings/Acc...</td>\n",
       "    </tr>\n",
       "    <tr>\n",
       "      <th>16382</th>\n",
       "      <td>779844258</td>\n",
       "      <td>http://www.tierstimmenarchiv.de/recordings/Acc...</td>\n",
       "    </tr>\n",
       "    <tr>\n",
       "      <th>16383</th>\n",
       "      <td>779844257</td>\n",
       "      <td>http://www.tierstimmenarchiv.de/recordings/Acc...</td>\n",
       "    </tr>\n",
       "    <tr>\n",
       "      <th>16384</th>\n",
       "      <td>779844256</td>\n",
       "      <td>http://www.tierstimmenarchiv.de/recordings/Acc...</td>\n",
       "    </tr>\n",
       "  </tbody>\n",
       "</table>\n",
       "<p>16385 rows × 2 columns</p>\n",
       "</div>"
      ],
      "text/plain": [
       "           gbifID                                         identifier\n",
       "0      1572324720  http://www.tierstimmenarchiv.de/recordings/Cre...\n",
       "1      1572324719  http://www.tierstimmenarchiv.de/recordings/Cre...\n",
       "2      1572324718  http://www.tierstimmenarchiv.de/recordings/Cre...\n",
       "3      1572324717  http://www.tierstimmenarchiv.de/recordings/Cre...\n",
       "4      1572324716  http://www.tierstimmenarchiv.de/recordings/Cre...\n",
       "...           ...                                                ...\n",
       "16380   779844260  http://www.tierstimmenarchiv.de/recordings/Acc...\n",
       "16381   779844259  http://www.tierstimmenarchiv.de/recordings/Acc...\n",
       "16382   779844258  http://www.tierstimmenarchiv.de/recordings/Acc...\n",
       "16383   779844257  http://www.tierstimmenarchiv.de/recordings/Acc...\n",
       "16384   779844256  http://www.tierstimmenarchiv.de/recordings/Acc...\n",
       "\n",
       "[16385 rows x 2 columns]"
      ]
     },
     "execution_count": 89,
     "metadata": {},
     "output_type": "execute_result"
    }
   ],
   "source": [
    "multi"
   ]
  }
 ],
 "metadata": {
  "kernelspec": {
   "display_name": "Python 3 (ipykernel)",
   "language": "python",
   "name": "python3"
  },
  "language_info": {
   "codemirror_mode": {
    "name": "ipython",
    "version": 3
   },
   "file_extension": ".py",
   "mimetype": "text/x-python",
   "name": "python",
   "nbconvert_exporter": "python",
   "pygments_lexer": "ipython3",
   "version": "3.9.7"
  }
 },
 "nbformat": 4,
 "nbformat_minor": 5
}
