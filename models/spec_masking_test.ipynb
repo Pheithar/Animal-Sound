{
 "cells": [
  {
   "cell_type": "code",
   "execution_count": null,
   "source": [
    "import utils\r\n",
    "\r\n",
    "import matplotlib.pyplot as plt\r\n",
    "\r\n",
    "import torch\r\n",
    "import torchsummary\r\n",
    "from torchvision import transforms\r\n",
    "import torchaudio\r\n",
    "\r\n",
    "import torch.nn as nn\r\n",
    "import torch.optim as optim\r\n",
    "from torch.utils.data import random_split\r\n",
    "\r\n",
    "from torch.utils.data import DataLoader\r\n",
    "\r\n",
    "import numpy as np\r\n",
    "from importlib import reload\r\n",
    "\r\n",
    "import yaml"
   ],
   "outputs": [],
   "metadata": {}
  },
  {
   "cell_type": "code",
   "execution_count": null,
   "source": [
    "random_seed = 42"
   ],
   "outputs": [],
   "metadata": {}
  },
  {
   "cell_type": "code",
   "execution_count": null,
   "source": [
    "transform_img = transforms.Compose(\r\n",
    "    [\r\n",
    "        transforms.ToTensor(),\r\n",
    "        torchaudio.transforms.FrequencyMasking(freq_mask_param=40),\r\n",
    "        torchaudio.transforms.TimeMasking(time_mask_param=40),\r\n",
    "        transforms.Normalize((.5, .5, .5), (.5, .5, .5)),\r\n",
    "    ]\r\n",
    ")\r\n",
    "\r\n",
    "transform_labels = transforms.Compose(\r\n",
    "    [\r\n",
    "        transforms.ToTensor()\r\n",
    "    ]\r\n",
    ")\r\n",
    "\r\n",
    "dataset = utils.SpectrogramDataset(\"../datasets/Aves-Mammalia.csv\", \r\n",
    "                                   \"../spectrograms/small_dataset\", \r\n",
    "                                   \"gbifID\", \"class\",\r\n",
    "                                   transform=transform_img,\r\n",
    "                                   one_hot_encode_labels=True)"
   ],
   "outputs": [],
   "metadata": {}
  }
 ],
 "metadata": {
  "orig_nbformat": 4,
  "language_info": {
   "name": "python",
   "version": "3.9.7",
   "mimetype": "text/x-python",
   "codemirror_mode": {
    "name": "ipython",
    "version": 3
   },
   "pygments_lexer": "ipython3",
   "nbconvert_exporter": "python",
   "file_extension": ".py"
  },
  "kernelspec": {
   "name": "python3",
   "display_name": "Python 3.9.7 64-bit ('venv': venv)"
  },
  "interpreter": {
   "hash": "05ec5b253bfbbd0f3665b561f42f8ff4c11567d04d42cfb2c6dadb81cf478878"
  }
 },
 "nbformat": 4,
 "nbformat_minor": 2
}