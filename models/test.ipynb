{
 "cells": [
  {
   "cell_type": "code",
   "execution_count": null,
   "metadata": {},
   "outputs": [],
   "source": [
    "import utils\n",
    "import Simple_CNN\n",
    "\n",
    "import matplotlib.pyplot as plt\n",
    "\n",
    "import torch\n",
    "import torchsummary\n",
    "from torchvision import transforms\n",
    "\n",
    "import torch.nn as nn\n",
    "import torch.optim as optim\n",
    "from torch.utils.data import random_split\n",
    "\n",
    "from torch.utils.data import DataLoader\n",
    "\n",
    "from sklearn.preprocessing import OneHotEncoder\n",
    "\n",
    "\n",
    "import numpy as np\n",
    "from importlib import reload\n",
    "\n",
    "import yaml"
   ]
  },
  {
   "cell_type": "code",
   "execution_count": null,
   "metadata": {},
   "outputs": [],
   "source": [
    "with open(\"SimpleCNN.yaml\", \"r\") as f:\n",
    "  net_archi = yaml.load(f, Loader=yaml.FullLoader)\n",
    "  \n",
    "  print(net_archi)"
   ]
  },
  {
   "cell_type": "code",
   "execution_count": null,
   "metadata": {},
   "outputs": [],
   "source": [
    "# Parameters\n",
    "random_seed = 42"
   ]
  },
  {
   "cell_type": "code",
   "execution_count": null,
   "metadata": {},
   "outputs": [],
   "source": [
    "reload(utils)\n",
    "\n",
    "transform_img = transforms.Compose(\n",
    "    [transforms.ToTensor(),\n",
    "     transforms.Normalize((0.5, 0.5, 0.5),(0.5, 0.5, 0.5))\n",
    "    ]\n",
    ")\n",
    "\n",
    "transform_labels = transforms.Compose(\n",
    "    [transforms.ToTensor()]\n",
    ")\n",
    "\n",
    "dataset = utils.SpectrogramDataset(\"../datasets/Aves-Mammalia.csv\", \n",
    "                                   \"../spectrograms/small_dataset\", \n",
    "                                   \"gbifID\", \"class\", \n",
    "                                   transform=transform_img, \n",
    "                                   one_hot_encode_labels=True)\n",
    "dataset.show_sample(8, figsize=(20, 10))"
   ]
  },
  {
   "cell_type": "code",
   "execution_count": null,
   "metadata": {},
   "outputs": [],
   "source": [
    "test_percentage = .2\n",
    "test_len = int((len(dataset) * test_percentage))\n",
    "train_len = len(dataset) - test_len\n",
    "\n",
    "train, test = random_split(dataset, [train_len, test_len], torch.Generator().manual_seed(random_seed))\n",
    "\n",
    "train_loader = DataLoader(train, batch_size=16)\n",
    "test_loader = DataLoader(test, batch_size=16)"
   ]
  },
  {
   "cell_type": "code",
   "execution_count": null,
   "metadata": {},
   "outputs": [],
   "source": [
    "len(train_loader.dataset), len(test_loader.dataset)"
   ]
  },
  {
   "cell_type": "code",
   "execution_count": null,
   "metadata": {},
   "outputs": [],
   "source": [
    "net_archi[\"SimpleCNN2out\"]"
   ]
  },
  {
   "cell_type": "code",
   "execution_count": null,
   "metadata": {},
   "outputs": [],
   "source": [
    "reload(Simple_CNN)\n",
    "net = Simple_CNN.SimpleCNN(net_archi[\"SimpleCNN2out\"])\n",
    "\n",
    "net = utils.cuda_network(net)\n",
    "\n",
    "criterion = nn.BCELoss()\n",
    "optimizer = optim.Adam(net.parameters(), lr=.001)\n",
    "\n",
    "# torchsummary.summary(net, (3, 1024, 256))"
   ]
  },
  {
   "cell_type": "code",
   "execution_count": null,
   "metadata": {},
   "outputs": [],
   "source": [
    "net.parameters"
   ]
  },
  {
   "cell_type": "code",
   "execution_count": null,
   "metadata": {},
   "outputs": [],
   "source": [
    "torchsummary.summary(net, (3, 1024, 256))"
   ]
  },
  {
   "cell_type": "code",
   "execution_count": null,
   "metadata": {},
   "outputs": [],
   "source": [
    "torch.cuda.empty_cache()\n",
    "((train_loss, train_acc),\n",
    " (val_loss, val_acc)) = net.fit(10, train_loader, test_loader, criterion, optimizer,\n",
    "                             log_file=\"train1.log\", plot_file=\"train1.png\")"
   ]
  },
  {
   "cell_type": "code",
   "execution_count": null,
   "metadata": {},
   "outputs": [],
   "source": [
    "train_loss, train_acc, val_loss, val_acc"
   ]
  }
 ],
 "metadata": {
  "interpreter": {
   "hash": "05ec5b253bfbbd0f3665b561f42f8ff4c11567d04d42cfb2c6dadb81cf478878"
  },
  "kernelspec": {
   "display_name": "Python 3 (ipykernel)",
   "language": "python",
   "name": "python3"
  },
  "language_info": {
   "codemirror_mode": {
    "name": "ipython",
    "version": 3
   },
   "file_extension": ".py",
   "mimetype": "text/x-python",
   "name": "python",
   "nbconvert_exporter": "python",
   "pygments_lexer": "ipython3",
   "version": "3.9.7"
  }
 },
 "nbformat": 4,
 "nbformat_minor": 2
}
