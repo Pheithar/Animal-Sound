{
 "cells": [
  {
   "cell_type": "code",
   "execution_count": null,
   "source": [
    "import utils\r\n",
    "import Simple_CNN\r\n",
    "\r\n",
    "import matplotlib.pyplot as plt\r\n",
    "\r\n",
    "import torch\r\n",
    "import torchsummary\r\n",
    "from torchvision import transforms\r\n",
    "\r\n",
    "import torch.nn as nn\r\n",
    "import torch.optim as optim\r\n",
    "from torch.utils.data import random_split\r\n",
    "\r\n",
    "from torch.utils.data import DataLoader\r\n",
    "\r\n",
    "from sklearn.preprocessing import OneHotEncoder\r\n",
    "\r\n",
    "\r\n",
    "import numpy as np\r\n",
    "from importlib import reload\r\n",
    "\r\n",
    "import yaml"
   ],
   "outputs": [],
   "metadata": {}
  },
  {
   "cell_type": "code",
   "execution_count": null,
   "source": [
    "with open(\"SimpleCNN.yaml\", \"r\") as f:\r\n",
    "  net_archi = yaml.load(f, Loader=yaml.FullLoader)\r\n",
    "  \r\n",
    "  print(net_archi)"
   ],
   "outputs": [],
   "metadata": {}
  },
  {
   "cell_type": "code",
   "execution_count": null,
   "source": [
    "# Parameters\r\n",
    "random_seed = 42"
   ],
   "outputs": [],
   "metadata": {}
  },
  {
   "cell_type": "code",
   "execution_count": null,
   "source": [
    "reload(utils)\r\n",
    "\r\n",
    "transform_img = transforms.Compose(\r\n",
    "    [transforms.ToTensor(),\r\n",
    "     transforms.Normalize((0.5, 0.5, 0.5),(0.5, 0.5, 0.5))\r\n",
    "    ]\r\n",
    ")\r\n",
    "\r\n",
    "transform_labels = transforms.Compose(\r\n",
    "    [transforms.ToTensor()]\r\n",
    ")\r\n",
    "\r\n",
    "dataset = utils.SpectrogramDataset(\"../datasets/Aves-Mammalia.csv\", \r\n",
    "                                   \"../spectrograms/small_dataset\", \r\n",
    "                                   \"gbifID\", \"class\", \r\n",
    "                                   transform=transform_img, \r\n",
    "                                   one_hot_encode_labels=True)\r\n",
    "dataset.show_sample(8, figsize=(20, 10))"
   ],
   "outputs": [],
   "metadata": {}
  },
  {
   "cell_type": "code",
   "execution_count": null,
   "source": [
    "test_percentage = .2\r\n",
    "test_len = int((len(dataset) * test_percentage))\r\n",
    "train_len = len(dataset) - test_len\r\n",
    "\r\n",
    "train, test = random_split(dataset, [train_len, test_len], torch.Generator().manual_seed(random_seed))\r\n",
    "\r\n",
    "train_loader = DataLoader(train, batch_size=16)\r\n",
    "test_loader = DataLoader(test, batch_size=16)"
   ],
   "outputs": [],
   "metadata": {}
  },
  {
   "cell_type": "code",
   "execution_count": null,
   "source": [
    "len(train_loader.dataset), len(test_loader.dataset)"
   ],
   "outputs": [],
   "metadata": {}
  },
  {
   "cell_type": "code",
   "execution_count": null,
   "source": [
    "net_archi[\"SimpleCNN2out\"]"
   ],
   "outputs": [],
   "metadata": {}
  },
  {
   "cell_type": "code",
   "execution_count": null,
   "source": [
    "reload(Simple_CNN)\r\n",
    "net = Simple_CNN.SimpleCNN(net_archi[\"SimpleCNN2out\"])\r\n",
    "\r\n",
    "net = utils.cuda_network(net)\r\n",
    "\r\n",
    "criterion = nn.BCELoss()\r\n",
    "optimizer = optim.Adam(net.parameters(), lr=.001)\r\n",
    "\r\n",
    "# torchsummary.summary(net, (3, 1024, 256))"
   ],
   "outputs": [],
   "metadata": {}
  },
  {
   "cell_type": "code",
   "execution_count": null,
   "source": [
    "net.parameters"
   ],
   "outputs": [],
   "metadata": {}
  },
  {
   "cell_type": "code",
   "execution_count": null,
   "source": [
    "torchsummary.summary(net, (3, 1024, 256))"
   ],
   "outputs": [],
   "metadata": {}
  },
  {
   "cell_type": "code",
   "execution_count": null,
   "source": [
    "torch.cuda.empty_cache()\n",
    "((train_loss, train_acc),\n",
    " (val_loss, val_acc)) = net.fit(10, train_loader, test_loader, criterion, optimizer,\n",
    "                             log_file=\"train1.log\", plot_file=\"train1.png\")"
   ],
   "outputs": [],
   "metadata": {}
  },
  {
   "cell_type": "code",
   "execution_count": null,
   "source": [
    "train_loss, train_acc, val_loss, val_acc"
   ],
   "outputs": [],
   "metadata": {}
  }
 ],
 "metadata": {
  "interpreter": {
   "hash": "05ec5b253bfbbd0f3665b561f42f8ff4c11567d04d42cfb2c6dadb81cf478878"
  },
  "kernelspec": {
   "display_name": "Python 3",
   "language": "python",
   "name": "python3"
  },
  "language_info": {
   "codemirror_mode": {
    "name": "ipython",
    "version": 3
   },
   "file_extension": ".py",
   "mimetype": "text/x-python",
   "name": "python",
   "nbconvert_exporter": "python",
   "pygments_lexer": "ipython3",
   "version": "3.9.7"
  }
 },
 "nbformat": 4,
 "nbformat_minor": 2
}
