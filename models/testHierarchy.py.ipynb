{
 "cells": [
  {
   "cell_type": "code",
   "execution_count": 1,
   "id": "traditional-explanation",
   "metadata": {},
   "outputs": [],
   "source": [
    "import utils\n",
    "import Simple_CNN\n",
    "import Hierarchical\n",
    "\n",
    "import matplotlib.pyplot as plt\n",
    "\n",
    "import numpy as np\n",
    "from importlib import reload\n",
    "\n",
    "import yaml"
   ]
  },
  {
   "cell_type": "code",
   "execution_count": 18,
   "id": "aggregate-adelaide",
   "metadata": {},
   "outputs": [],
   "source": [
    "with open(\"hierarchy.yaml\", \"r\") as f:\n",
    "  net_params = yaml.load(f, Loader=yaml.FullLoader)"
   ]
  },
  {
   "cell_type": "code",
   "execution_count": 19,
   "id": "posted-detector",
   "metadata": {},
   "outputs": [
    {
     "data": {
      "text/plain": [
       "{'phylum': {'class_Arthropoda': ['family_Arachnida', 'family_Insecta'],\n",
       "  'class_Chordata': ['family_Actinopterygii',\n",
       "   'family_Amphibia',\n",
       "   'family_Aves',\n",
       "   'family_Mammalia',\n",
       "   'family_Reptilia']}}"
      ]
     },
     "execution_count": 19,
     "metadata": {},
     "output_type": "execute_result"
    }
   ],
   "source": [
    "net_organization = net_params[\"net_organization\"]\n",
    "\n",
    "net_organization"
   ]
  },
  {
   "cell_type": "code",
   "execution_count": 20,
   "id": "alert-purse",
   "metadata": {},
   "outputs": [
    {
     "data": {
      "text/plain": [
       "{'phylum': {'input_shape': [3, 1024, 256],\n",
       "  'conv_channels': [8, 16, 32, 16, 8, 4],\n",
       "  'conv_kernel_size': [2, 2, 2, 2, 2, 2],\n",
       "  'pooling_size': [[2, 2], [2, 2], [2, 2], [2, 2], [2, 2], [2, 2]],\n",
       "  'conv_dropout': '0.0, 0.0, 0.2, 0.2, 0.0, 0.0',\n",
       "  'linear_features': [64, 2],\n",
       "  'linear_dropout': [0.4],\n",
       "  'last_layer_activation': 'Softmax(dim=0)'},\n",
       " 'class_Arthropoda': {'input_shape': [3, 1024, 256],\n",
       "  'conv_channels': [8, 16, 32, 16, 8, 4],\n",
       "  'conv_kernel_size': [2, 2, 2, 2, 2, 2],\n",
       "  'pooling_size': [[2, 2], [2, 2], [2, 2], [2, 2], [2, 2], [2, 2]],\n",
       "  'conv_dropout': '0.0, 0.0, 0.2, 0.2, 0.0, 0.0',\n",
       "  'linear_features': [64, 2],\n",
       "  'linear_dropout': [0.4],\n",
       "  'last_layer_activation': 'Softmax(dim=0)'},\n",
       " 'family_Arachnida': {'input_shape': [3, 1024, 256],\n",
       "  'conv_channels': [8, 16, 32, 16, 8, 4],\n",
       "  'conv_kernel_size': [2, 2, 2, 2, 2, 2],\n",
       "  'pooling_size': [[2, 2], [2, 2], [2, 2], [2, 2], [2, 2], [2, 2]],\n",
       "  'conv_dropout': '0.0, 0.0, 0.2, 0.2, 0.0, 0.0',\n",
       "  'linear_features': [64, 1],\n",
       "  'linear_dropout': [0.4],\n",
       "  'last_layer_activation': 'Softmax(dim=0)'},\n",
       " 'family_Insecta': {'input_shape': [3, 1024, 256],\n",
       "  'conv_channels': [8, 16, 32, 16, 8, 4],\n",
       "  'conv_kernel_size': [2, 2, 2, 2, 2, 2],\n",
       "  'pooling_size': [[2, 2], [2, 2], [2, 2], [2, 2], [2, 2], [2, 2]],\n",
       "  'conv_dropout': '0.0, 0.0, 0.2, 0.2, 0.0, 0.0',\n",
       "  'linear_features': [64, 14],\n",
       "  'linear_dropout': [0.4],\n",
       "  'last_layer_activation': 'Softmax(dim=0)'},\n",
       " 'class_Chordata': {'input_shape': [3, 1024, 256],\n",
       "  'conv_channels': [8, 16, 32, 16, 8, 4],\n",
       "  'conv_kernel_size': [2, 2, 2, 2, 2, 2],\n",
       "  'pooling_size': [[2, 2], [2, 2], [2, 2], [2, 2], [2, 2], [2, 2]],\n",
       "  'conv_dropout': '0.0, 0.0, 0.2, 0.2, 0.0, 0.0',\n",
       "  'linear_features': [64, 5],\n",
       "  'linear_dropout': [0.4],\n",
       "  'last_layer_activation': 'Softmax(dim=0)'},\n",
       " 'family_Actinopterygii': {'input_shape': [3, 1024, 256],\n",
       "  'conv_channels': [8, 16, 32, 16, 8, 4],\n",
       "  'conv_kernel_size': [2, 2, 2, 2, 2, 2],\n",
       "  'pooling_size': [[2, 2], [2, 2], [2, 2], [2, 2], [2, 2], [2, 2]],\n",
       "  'conv_dropout': '0.0, 0.0, 0.2, 0.2, 0.0, 0.0',\n",
       "  'linear_features': [64, 5],\n",
       "  'linear_dropout': [0.4],\n",
       "  'last_layer_activation': 'Softmax(dim=0)'},\n",
       " 'family_Amphibia': {'input_shape': [3, 1024, 256],\n",
       "  'conv_channels': [8, 16, 32, 16, 8, 4],\n",
       "  'conv_kernel_size': [2, 2, 2, 2, 2, 2],\n",
       "  'pooling_size': [[2, 2], [2, 2], [2, 2], [2, 2], [2, 2], [2, 2]],\n",
       "  'conv_dropout': '0.0, 0.0, 0.2, 0.2, 0.0, 0.0',\n",
       "  'linear_features': [64, 5],\n",
       "  'linear_dropout': [0.4],\n",
       "  'last_layer_activation': 'Softmax(dim=0)'},\n",
       " 'family_Aves': {'input_shape': [3, 1024, 256],\n",
       "  'conv_channels': [8, 16, 32, 16, 8, 4],\n",
       "  'conv_kernel_size': [2, 2, 2, 2, 2, 2],\n",
       "  'pooling_size': [[2, 2], [2, 2], [2, 2], [2, 2], [2, 2], [2, 2]],\n",
       "  'conv_dropout': '0.0, 0.0, 0.2, 0.2, 0.0, 0.0',\n",
       "  'linear_features': [64, 5],\n",
       "  'linear_dropout': [0.4],\n",
       "  'last_layer_activation': 'Softmax(dim=0)'},\n",
       " 'family_Mammalia': {'input_shape': [3, 1024, 256],\n",
       "  'conv_channels': [8, 16, 32, 16, 8, 4],\n",
       "  'conv_kernel_size': [2, 2, 2, 2, 2, 2],\n",
       "  'pooling_size': [[2, 2], [2, 2], [2, 2], [2, 2], [2, 2], [2, 2]],\n",
       "  'conv_dropout': '0.0, 0.0, 0.2, 0.2, 0.0, 0.0',\n",
       "  'linear_features': [64, 5],\n",
       "  'linear_dropout': [0.4],\n",
       "  'last_layer_activation': 'Softmax(dim=0)'},\n",
       " 'family_Reptilia': {'input_shape': [3, 1024, 256],\n",
       "  'conv_channels': [8, 16, 32, 16, 8, 4],\n",
       "  'conv_kernel_size': [2, 2, 2, 2, 2, 2],\n",
       "  'pooling_size': [[2, 2], [2, 2], [2, 2], [2, 2], [2, 2], [2, 2]],\n",
       "  'conv_dropout': '0.0, 0.0, 0.2, 0.2, 0.0, 0.0',\n",
       "  'linear_features': [64, 5],\n",
       "  'linear_dropout': [0.4],\n",
       "  'last_layer_activation': 'Softmax(dim=0)'}}"
      ]
     },
     "execution_count": 20,
     "metadata": {},
     "output_type": "execute_result"
    }
   ],
   "source": [
    "net_architecture = net_params[\"net_architecture\"]\n",
    "\n",
    "net_architecture"
   ]
  },
  {
   "cell_type": "code",
   "execution_count": 15,
   "id": "tamil-machine",
   "metadata": {},
   "outputs": [
    {
     "data": {
      "text/plain": [
       "[<Hierarchical.HierarchicalNode at 0x7f465279ba90>]"
      ]
     },
     "execution_count": 15,
     "metadata": {},
     "output_type": "execute_result"
    }
   ],
   "source": [
    "Hierarchical.HierarchicalClassification({}, net_organization)"
   ]
  }
 ],
 "metadata": {
  "kernelspec": {
   "display_name": "Python 3",
   "language": "python",
   "name": "python3"
  },
  "language_info": {
   "codemirror_mode": {
    "name": "ipython",
    "version": 3
   },
   "file_extension": ".py",
   "mimetype": "text/x-python",
   "name": "python",
   "nbconvert_exporter": "python",
   "pygments_lexer": "ipython3",
   "version": "3.9.7"
  }
 },
 "nbformat": 4,
 "nbformat_minor": 5
}
